{
 "cells": [
  {
   "cell_type": "code",
   "execution_count": 3,
   "metadata": {},
   "outputs": [],
   "source": [
    "#Visualizations For Dashboard\n",
    "\n",
    "\n",
    "import pandas as pd\n",
    "import numpy as np\n",
    "import plotly.express as px\n",
    "import plotly.graph_objects as go\n",
    "\n",
    "from icecream import ic\n",
    "import matplotlib.pyplot as plt \n",
    "import plotly.io as pio\n",
    "import datetime as dt\n",
    "from scipy import stats\n",
    "\n"
   ]
  },
  {
   "cell_type": "code",
   "execution_count": 4,
   "metadata": {},
   "outputs": [],
   "source": [
    "#loading the data\n",
    "pio.templates.default = \"plotly_white\"\n",
    "ic.disable()\n",
    "azure_data = pd.read_csv('/media/seqcuredata/dailyjobs/New_Dashboard_Dataframe_AZURE.csv') \n",
    "aws_data = pd.read_csv('/media/seqcuredata/dailyjobs/New_Dashboard_Dataframe_AWS.csv')\n",
    "azure_data_fail = pd.read_csv('/media/seqcuredata/dailyjobs/FAILED_Dashboard_Dataframe_AZURE.csv')\n",
    "aws_data_fail = pd.read_csv('/media/seqcuredata/dailyjobs/FAILED_Dashboard_Dataframe_AWS.csv')\n",
    "azure_data_cost = pd.read_csv('/media/seqcuredata/dailyjobs/COST_Dashboard_Dataframe_AZURE.csv')\n",
    "aws_data_cost = pd.read_csv('/media/seqcuredata/dailyjobs/COST_Dashboard_Dataframe_AWS.csv')\n",
    "for index, row in azure_data_cost.iterrows():\n",
    "    azure_data_cost = azure_data_cost[azure_data_cost['Job Status'] == 'JobStatus.DONE']\n",
    "\n",
    "for index, row in aws_data_cost.iterrows():\n",
    "    aws_data_cost = aws_data_cost[aws_data_cost['Job Status'] == 'JobStatus.DONE']\n",
    "\n",
    "\n",
    "status_azure = pd.read_csv('/media/seqcuredata/dailyjobs/AZURE_Target_Status.csv')\n",
    "status_aws = pd.read_csv('/media/seqcuredata/dailyjobs/AWS_Target_Status.csv')\n",
    "\n",
    "removed_column = azure_data.columns[0]\n",
    "azure_data = azure_data.drop(columns=[removed_column])\n",
    "\n",
    "removed_column2 = aws_data.columns[0]\n",
    "aws_data = aws_data.drop(columns=[removed_column2])\n",
    "\n"
   ]
  },
  {
   "cell_type": "code",
   "execution_count": 3,
   "metadata": {},
   "outputs": [
    {
     "name": "stderr",
     "output_type": "stream",
     "text": [
      "/tmp/ipykernel_998077/161336881.py:33: SettingWithCopyWarning: \n",
      "A value is trying to be set on a copy of a slice from a DataFrame.\n",
      "Try using .loc[row_indexer,col_indexer] = value instead\n",
      "\n",
      "See the caveats in the documentation: https://pandas.pydata.org/pandas-docs/stable/user_guide/indexing.html#returning-a-view-versus-a-copy\n",
      "  both_filtered_scatter['size'] = (both_filtered_scatter['Cost Estimate'] - both_filtered_scatter['Cost Estimate'].min()) / (both_filtered_scatter['Cost Estimate'].max() - both_filtered_scatter['Cost Estimate'].min()) * 50 + 10\n"
     ]
    },
    {
     "data": {
      "application/vnd.plotly.v1+json": {
       "config": {
        "plotlyServerURL": "https://plot.ly"
       },
       "data": [
        {
         "hovertemplate": "Target=ionq.qpu.aria-2<br>Cost Estimate=%{x}<br>Fidelity=%{y}<br>size=%{marker.size}<extra></extra>",
         "legendgroup": "ionq.qpu.aria-2",
         "marker": {
          "color": "#636efa",
          "size": [
           10.805589586376936,
           10.805589586376936,
           10.805589586376936,
           10.805589586376936,
           10.805589586376936,
           10.805589586376936,
           10.805589586376936,
           10.805589586376936,
           10.805589586376936,
           10.805589586376936,
           10.805589586376936,
           10.805589586376936,
           10.805589586376936,
           10.805589586376936,
           10.805589586376936,
           10.805589586376936,
           10.805589586376936
          ],
          "sizemode": "area",
          "sizeref": 0.15,
          "symbol": "circle"
         },
         "mode": "markers",
         "name": "ionq.qpu.aria-2",
         "orientation": "v",
         "showlegend": true,
         "type": "scatter",
         "x": [
          17.02737,
          17.02737,
          17.02737,
          17.02737,
          17.02737,
          17.02737,
          17.02737,
          17.02737,
          17.02737,
          17.02737,
          17.02737,
          17.02737,
          17.02737,
          17.02737,
          17.02737,
          17.02737,
          17.02737
         ],
         "xaxis": "x",
         "y": [
          0.6221289501764933,
          0.6487348830842636,
          0.6233405553315522,
          0.6039787075305916,
          0.5950317714723867,
          0.5429882694160132,
          0.6422567608800558,
          0.6216654189889271,
          0.645836122103295,
          0.6213681832025519,
          0.6194112566501603,
          0.6655827060803061,
          0.6307568694081863,
          0.6449301956122608,
          0.6593246229192598,
          0.6607870687435842,
          0.6529637146966962
         ],
         "yaxis": "y"
        },
        {
         "hovertemplate": "Target=ionq.qpu<br>Cost Estimate=%{x}<br>Fidelity=%{y}<br>size=%{marker.size}<extra></extra>",
         "legendgroup": "ionq.qpu",
         "marker": {
          "color": "#EF553B",
          "size": [
           10.228869256460104,
           10.228869256460104,
           10.228869256460104,
           10.228869256460104,
           10.228869256460104,
           10.228869256460104,
           10.228869256460104,
           10.228869256460104,
           10.228869256460104,
           10.228869256460104,
           10.228869256460104,
           10.228869256460104,
           10.228869256460104,
           10.228869256460104,
           10.228869256460104,
           10.228869256460104,
           10.228869256460104,
           10.228869256460104,
           10.228869256460104,
           10.228869256460104,
           10.228869256460104,
           10.228869256460104
          ],
          "sizemode": "area",
          "sizeref": 0.15,
          "symbol": "circle"
         },
         "mode": "markers",
         "name": "ionq.qpu",
         "orientation": "v",
         "showlegend": true,
         "type": "scatter",
         "x": [
          4.995,
          4.995,
          4.995,
          4.995,
          4.995,
          4.995,
          4.995,
          4.995,
          4.995,
          4.995,
          4.995,
          4.995,
          4.995,
          4.995,
          4.995,
          4.995,
          4.995,
          4.995,
          4.995,
          4.995,
          4.995,
          4.995
         ],
         "xaxis": "x",
         "y": [
          0.5827606489593177,
          0.642251239537856,
          0.6260414836981322,
          0.6603937828649233,
          0.6475292996909203,
          0.6177232966356295,
          0.6076861017509612,
          0.6712377753981863,
          0.6249290232795056,
          0.6753556836970419,
          0.6197104191225925,
          0.6400618224279313,
          0.6294610326521279,
          0.6517075994514585,
          0.6240109543057518,
          0.6505321335718234,
          0.6130534186508271,
          0.6381992647300531,
          0.6369987941680445,
          0.6378655441738896,
          0.60890160165074,
          0.6263340942644086
         ],
         "yaxis": "y"
        },
        {
         "hovertemplate": "Target=quantinuum.qpu.h1-1<br>Cost Estimate=%{x}<br>Fidelity=%{y}<br>size=%{marker.size}<extra></extra>",
         "legendgroup": "quantinuum.qpu.h1-1",
         "marker": {
          "color": "#00cc96",
          "size": [
           60,
           60,
           60,
           60,
           60,
           60,
           60,
           60,
           60,
           60,
           60,
           60,
           60,
           60,
           60,
           60,
           60,
           60,
           60,
           60,
           60,
           60,
           60,
           60,
           60
          ],
          "sizemode": "area",
          "sizeref": 0.15,
          "symbol": "circle"
         },
         "mode": "markers",
         "name": "quantinuum.qpu.h1-1",
         "orientation": "v",
         "showlegend": true,
         "type": "scatter",
         "x": [
          1043.392,
          1043.392,
          1043.392,
          1043.392,
          1043.392,
          1043.392,
          1043.392,
          1043.392,
          1043.392,
          1043.392,
          1043.392,
          1043.392,
          1043.392,
          1043.392,
          1043.392,
          1043.392,
          1043.392,
          1043.392,
          1043.392,
          1043.392,
          1043.392,
          1043.392,
          1043.392,
          1043.392,
          1043.392
         ],
         "xaxis": "x",
         "y": [
          0.6815639310628153,
          0.6858816567917985,
          0.6492381894678083,
          0.6224701700400189,
          0.6048423178501747,
          0.6596949028941432,
          0.6680775812650671,
          0.6382130817170917,
          0.6646633144401553,
          0.7036725043685892,
          0.6805018511614906,
          0.6770910825491941,
          0.6642861456569893,
          0.6094383385710969,
          0.6631827623228719,
          0.6787613015661689,
          0.6153234242811245,
          0.6619232075156738,
          0.6571357231640474,
          0.6526467247839189,
          0.6737926769372492,
          0.6697151345995761,
          0.6667521235685223,
          0.6693532041885581,
          0.6240729559739959
         ],
         "yaxis": "y"
        },
        {
         "hovertemplate": "Target=quantinuum.qpu.h2-1<br>Cost Estimate=%{x}<br>Fidelity=%{y}<br>size=%{marker.size}<extra></extra>",
         "legendgroup": "quantinuum.qpu.h2-1",
         "marker": {
          "color": "#ab63fa",
          "size": [
           60,
           60,
           60,
           60,
           60,
           60,
           60,
           60,
           60,
           60,
           60,
           60,
           60,
           60,
           60,
           60,
           60,
           60,
           60,
           60,
           60,
           60,
           60,
           60,
           60,
           60,
           60,
           60,
           60
          ],
          "sizemode": "area",
          "sizeref": 0.15,
          "symbol": "circle"
         },
         "mode": "markers",
         "name": "quantinuum.qpu.h2-1",
         "orientation": "v",
         "showlegend": true,
         "type": "scatter",
         "x": [
          1043.392,
          1043.392,
          1043.392,
          1043.392,
          1043.392,
          1043.392,
          1043.392,
          1043.392,
          1043.392,
          1043.392,
          1043.392,
          1043.392,
          1043.392,
          1043.392,
          1043.392,
          1043.392,
          1043.392,
          1043.392,
          1043.392,
          1043.392,
          1043.392,
          1043.392,
          1043.392,
          1043.392,
          1043.392,
          1043.392,
          1043.392,
          1043.392,
          1043.392
         ],
         "xaxis": "x",
         "y": [
          0.6491115347535666,
          0.6627457862948627,
          0.6508296211264805,
          0.6783105496440549,
          0.6326947382430947,
          0.6566897622696749,
          0.6471789902316614,
          0.6378831220088613,
          0.6492962249706238,
          0.6404254076553546,
          0.6662631361947281,
          0.633847494815323,
          0.6336309666630339,
          0.6048147589403778,
          0.640558509469859,
          0.6711336567205781,
          0.685814897175237,
          0.6666071543467305,
          0.6687913370832032,
          0.6519452481584136,
          0.658416362649438,
          0.7007710964946503,
          0.7157947177235828,
          0.6452971723159349,
          0.6524034631699489,
          0.6658034739393485,
          0.6369637357467549,
          0.6929021664516474,
          0.6754971970103535
         ],
         "yaxis": "y"
        },
        {
         "hovertemplate": "Target=rigetti.qpu.ankaa-2<br>Cost Estimate=%{x}<br>Fidelity=%{y}<br>size=%{marker.size}<extra></extra>",
         "legendgroup": "rigetti.qpu.ankaa-2",
         "marker": {
          "color": "#FFA15A",
          "size": [
           10.000958614686743,
           10.000958614686743,
           10.000958614686743,
           10.000958614686743,
           10.000958614686743,
           10.000958614686743,
           10.000958614686743,
           10.000958614686743,
           10.000958614686743,
           10.000958614686743,
           10,
           10.000958614686743,
           10.000958614686743,
           10.000958614686743,
           10.000958614686743
          ],
          "sizemode": "area",
          "sizeref": 0.15,
          "symbol": "circle"
         },
         "mode": "markers",
         "name": "rigetti.qpu.ankaa-2",
         "orientation": "v",
         "showlegend": true,
         "type": "scatter",
         "x": [
          0.24,
          0.24,
          0.24,
          0.24,
          0.24,
          0.24,
          0.24,
          0.24,
          0.24,
          0.24,
          0.22,
          0.24,
          0.24,
          0.24,
          0.24
         ],
         "xaxis": "x",
         "y": [
          0.6476097452101909,
          0.6003620144480218,
          0.6624994303009843,
          0.617268986812207,
          0.5987560645462522,
          0.6177213814872272,
          0.6258684857876412,
          0.5533200740659341,
          0.5915769065186077,
          0.622608232310815,
          0.4836280033264029,
          0.3065092189531676,
          0.63173036284683,
          0.5696674602429994,
          0.2650873562649566
         ],
         "yaxis": "y"
        },
        {
         "hovertemplate": "Target=Aria 2<br>Cost Estimate=%{x}<br>Fidelity=%{y}<br>size=%{marker.size}<extra></extra>",
         "legendgroup": "Aria 2",
         "marker": {
          "color": "#19d3f3",
          "size": [
           10.722795473804895,
           10.722795473804895,
           10.722795473804895,
           10.722795473804895,
           10.722795473804895,
           10.722795473804895,
           10.722795473804895,
           10.722795473804895,
           10.722795473804895,
           10.722795473804895,
           10.722795473804895,
           10.722795473804895,
           10.722795473804895,
           10.722795473804895,
           10.722795473804895,
           10.722795473804895,
           10.722795473804895,
           10.722795473804895
          ],
          "sizemode": "area",
          "sizeref": 0.15,
          "symbol": "circle"
         },
         "mode": "markers",
         "name": "Aria 2",
         "orientation": "v",
         "showlegend": true,
         "type": "scatter",
         "x": [
          15.3,
          15.3,
          15.3,
          15.3,
          15.3,
          15.3,
          15.3,
          15.3,
          15.3,
          15.3,
          15.3,
          15.3,
          15.3,
          15.3,
          15.3,
          15.3,
          15.3,
          15.3
         ],
         "xaxis": "x",
         "y": [
          0.6001127310917295,
          0.6573432742752492,
          0.6263773133625453,
          0.5280974782816252,
          0.5450737970435094,
          0.4808797634988185,
          0.5744250737629165,
          0.5896547023851684,
          0.665642159525517,
          0.5319351275349754,
          0.547291538024567,
          0.6388207417125701,
          0.6122961211811829,
          0.6420469299753384,
          0.5760803514749585,
          0.683053908857661,
          0.6210571216511133,
          0.6576806060486251
         ],
         "yaxis": "y"
        },
        {
         "hovertemplate": "Target=Garnet<br>Cost Estimate=%{x}<br>Fidelity=%{y}<br>size=%{marker.size}<extra></extra>",
         "legendgroup": "Garnet",
         "marker": {
          "color": "#FF6692",
          "size": [
           10.038584241141441,
           10.038584241141441,
           10.038584241141441,
           10.038584241141441,
           10.038584241141441,
           10.038584241141441,
           10.038584241141441,
           10.038584241141441,
           10.038584241141441,
           10.038584241141441,
           10.038584241141441,
           10.038584241141441,
           10.038584241141441,
           10.038584241141441,
           10.038584241141441,
           10.038584241141441,
           10.038584241141441,
           10.038584241141441,
           10.038584241141441,
           10.038584241141441,
           10.038584241141441,
           10.038584241141441,
           10.038584241141441,
           10.038584241141441,
           10.038584241141441,
           10.038584241141441
          ],
          "sizemode": "area",
          "sizeref": 0.15,
          "symbol": "circle"
         },
         "mode": "markers",
         "name": "Garnet",
         "orientation": "v",
         "showlegend": true,
         "type": "scatter",
         "x": [
          1.025,
          1.025,
          1.025,
          1.025,
          1.025,
          1.025,
          1.025,
          1.025,
          1.025,
          1.025,
          1.025,
          1.025,
          1.025,
          1.025,
          1.025,
          1.025,
          1.025,
          1.025,
          1.025,
          1.025,
          1.025,
          1.025,
          1.025,
          1.025,
          1.025,
          1.025
         ],
         "xaxis": "x",
         "y": [
          0.520980515911197,
          0.5471227188689998,
          0.5152518350950124,
          0.5513436934471122,
          0.5883222246359369,
          0.5430693647715271,
          0.5317957259717944,
          0.6108413962705097,
          0.5845692642683455,
          0.5470166579619797,
          0.5254188917436178,
          0.5077608375722041,
          0.5358716085418889,
          0.504259325346697,
          0.553808099352022,
          0.485036563048245,
          0.5394738416014083,
          0.4217072355703235,
          0.4648167859893837,
          0.4705978698855685,
          0.5041622310797761,
          0.4680836641947204,
          0.481365328831731,
          0.5087209551152111,
          0.4837923106305863,
          0.5069390402760843
         ],
         "yaxis": "y"
        },
        {
         "hovertemplate": "Target=Harmony<br>Cost Estimate=%{x}<br>Fidelity=%{y}<br>size=%{marker.size}<extra></extra>",
         "legendgroup": "Harmony",
         "marker": {
          "color": "#B6E880",
          "size": [
           10.243488130432949,
           10.243488130432949,
           10.243488130432949,
           10.243488130432949,
           10.243488130432949,
           10.243488130432949,
           10.243488130432949,
           10.243488130432949,
           10.243488130432949,
           10.243488130432949,
           10.243488130432949,
           10.243488130432949,
           10.243488130432949,
           10.243488130432949,
           10.243488130432949,
           10.243488130432949,
           10.243488130432949,
           10.243488130432949,
           10.243488130432949,
           10.243488130432949,
           10.243488130432949,
           10.243488130432949
          ],
          "sizemode": "area",
          "sizeref": 0.15,
          "symbol": "circle"
         },
         "mode": "markers",
         "name": "Harmony",
         "orientation": "v",
         "showlegend": true,
         "type": "scatter",
         "x": [
          5.3,
          5.3,
          5.3,
          5.3,
          5.3,
          5.3,
          5.3,
          5.3,
          5.3,
          5.3,
          5.3,
          5.3,
          5.3,
          5.3,
          5.3,
          5.3,
          5.3,
          5.3,
          5.3,
          5.3,
          5.3,
          5.3
         ],
         "xaxis": "x",
         "y": [
          0.6639976229289681,
          0.6409689892280158,
          0.6033409863882564,
          0.6543377783493894,
          0.6278521718680111,
          0.669729613126986,
          0.6389258887393235,
          0.6473607217527241,
          0.6043961272985489,
          0.7157919749483125,
          0.676326556520077,
          0.6328273035706486,
          0.6418866565001324,
          0.6452579926237865,
          0.6149796583107598,
          0.6584067227997452,
          0.6185740716769871,
          0.6398630252652099,
          0.6636911665038383,
          0.6186939363966807,
          0.6052497893258122,
          0.6717451861535324
         ],
         "yaxis": "y"
        }
       ],
       "layout": {
        "legend": {
         "itemsizing": "constant",
         "title": {
          "text": "Target"
         },
         "tracegroupgap": 0
        },
        "margin": {
         "t": 60
        },
        "template": {
         "data": {
          "bar": [
           {
            "error_x": {
             "color": "#2a3f5f"
            },
            "error_y": {
             "color": "#2a3f5f"
            },
            "marker": {
             "line": {
              "color": "white",
              "width": 0.5
             },
             "pattern": {
              "fillmode": "overlay",
              "size": 10,
              "solidity": 0.2
             }
            },
            "type": "bar"
           }
          ],
          "barpolar": [
           {
            "marker": {
             "line": {
              "color": "white",
              "width": 0.5
             },
             "pattern": {
              "fillmode": "overlay",
              "size": 10,
              "solidity": 0.2
             }
            },
            "type": "barpolar"
           }
          ],
          "carpet": [
           {
            "aaxis": {
             "endlinecolor": "#2a3f5f",
             "gridcolor": "#C8D4E3",
             "linecolor": "#C8D4E3",
             "minorgridcolor": "#C8D4E3",
             "startlinecolor": "#2a3f5f"
            },
            "baxis": {
             "endlinecolor": "#2a3f5f",
             "gridcolor": "#C8D4E3",
             "linecolor": "#C8D4E3",
             "minorgridcolor": "#C8D4E3",
             "startlinecolor": "#2a3f5f"
            },
            "type": "carpet"
           }
          ],
          "choropleth": [
           {
            "colorbar": {
             "outlinewidth": 0,
             "ticks": ""
            },
            "type": "choropleth"
           }
          ],
          "contour": [
           {
            "colorbar": {
             "outlinewidth": 0,
             "ticks": ""
            },
            "colorscale": [
             [
              0,
              "#0d0887"
             ],
             [
              0.1111111111111111,
              "#46039f"
             ],
             [
              0.2222222222222222,
              "#7201a8"
             ],
             [
              0.3333333333333333,
              "#9c179e"
             ],
             [
              0.4444444444444444,
              "#bd3786"
             ],
             [
              0.5555555555555556,
              "#d8576b"
             ],
             [
              0.6666666666666666,
              "#ed7953"
             ],
             [
              0.7777777777777778,
              "#fb9f3a"
             ],
             [
              0.8888888888888888,
              "#fdca26"
             ],
             [
              1,
              "#f0f921"
             ]
            ],
            "type": "contour"
           }
          ],
          "contourcarpet": [
           {
            "colorbar": {
             "outlinewidth": 0,
             "ticks": ""
            },
            "type": "contourcarpet"
           }
          ],
          "heatmap": [
           {
            "colorbar": {
             "outlinewidth": 0,
             "ticks": ""
            },
            "colorscale": [
             [
              0,
              "#0d0887"
             ],
             [
              0.1111111111111111,
              "#46039f"
             ],
             [
              0.2222222222222222,
              "#7201a8"
             ],
             [
              0.3333333333333333,
              "#9c179e"
             ],
             [
              0.4444444444444444,
              "#bd3786"
             ],
             [
              0.5555555555555556,
              "#d8576b"
             ],
             [
              0.6666666666666666,
              "#ed7953"
             ],
             [
              0.7777777777777778,
              "#fb9f3a"
             ],
             [
              0.8888888888888888,
              "#fdca26"
             ],
             [
              1,
              "#f0f921"
             ]
            ],
            "type": "heatmap"
           }
          ],
          "heatmapgl": [
           {
            "colorbar": {
             "outlinewidth": 0,
             "ticks": ""
            },
            "colorscale": [
             [
              0,
              "#0d0887"
             ],
             [
              0.1111111111111111,
              "#46039f"
             ],
             [
              0.2222222222222222,
              "#7201a8"
             ],
             [
              0.3333333333333333,
              "#9c179e"
             ],
             [
              0.4444444444444444,
              "#bd3786"
             ],
             [
              0.5555555555555556,
              "#d8576b"
             ],
             [
              0.6666666666666666,
              "#ed7953"
             ],
             [
              0.7777777777777778,
              "#fb9f3a"
             ],
             [
              0.8888888888888888,
              "#fdca26"
             ],
             [
              1,
              "#f0f921"
             ]
            ],
            "type": "heatmapgl"
           }
          ],
          "histogram": [
           {
            "marker": {
             "pattern": {
              "fillmode": "overlay",
              "size": 10,
              "solidity": 0.2
             }
            },
            "type": "histogram"
           }
          ],
          "histogram2d": [
           {
            "colorbar": {
             "outlinewidth": 0,
             "ticks": ""
            },
            "colorscale": [
             [
              0,
              "#0d0887"
             ],
             [
              0.1111111111111111,
              "#46039f"
             ],
             [
              0.2222222222222222,
              "#7201a8"
             ],
             [
              0.3333333333333333,
              "#9c179e"
             ],
             [
              0.4444444444444444,
              "#bd3786"
             ],
             [
              0.5555555555555556,
              "#d8576b"
             ],
             [
              0.6666666666666666,
              "#ed7953"
             ],
             [
              0.7777777777777778,
              "#fb9f3a"
             ],
             [
              0.8888888888888888,
              "#fdca26"
             ],
             [
              1,
              "#f0f921"
             ]
            ],
            "type": "histogram2d"
           }
          ],
          "histogram2dcontour": [
           {
            "colorbar": {
             "outlinewidth": 0,
             "ticks": ""
            },
            "colorscale": [
             [
              0,
              "#0d0887"
             ],
             [
              0.1111111111111111,
              "#46039f"
             ],
             [
              0.2222222222222222,
              "#7201a8"
             ],
             [
              0.3333333333333333,
              "#9c179e"
             ],
             [
              0.4444444444444444,
              "#bd3786"
             ],
             [
              0.5555555555555556,
              "#d8576b"
             ],
             [
              0.6666666666666666,
              "#ed7953"
             ],
             [
              0.7777777777777778,
              "#fb9f3a"
             ],
             [
              0.8888888888888888,
              "#fdca26"
             ],
             [
              1,
              "#f0f921"
             ]
            ],
            "type": "histogram2dcontour"
           }
          ],
          "mesh3d": [
           {
            "colorbar": {
             "outlinewidth": 0,
             "ticks": ""
            },
            "type": "mesh3d"
           }
          ],
          "parcoords": [
           {
            "line": {
             "colorbar": {
              "outlinewidth": 0,
              "ticks": ""
             }
            },
            "type": "parcoords"
           }
          ],
          "pie": [
           {
            "automargin": true,
            "type": "pie"
           }
          ],
          "scatter": [
           {
            "fillpattern": {
             "fillmode": "overlay",
             "size": 10,
             "solidity": 0.2
            },
            "type": "scatter"
           }
          ],
          "scatter3d": [
           {
            "line": {
             "colorbar": {
              "outlinewidth": 0,
              "ticks": ""
             }
            },
            "marker": {
             "colorbar": {
              "outlinewidth": 0,
              "ticks": ""
             }
            },
            "type": "scatter3d"
           }
          ],
          "scattercarpet": [
           {
            "marker": {
             "colorbar": {
              "outlinewidth": 0,
              "ticks": ""
             }
            },
            "type": "scattercarpet"
           }
          ],
          "scattergeo": [
           {
            "marker": {
             "colorbar": {
              "outlinewidth": 0,
              "ticks": ""
             }
            },
            "type": "scattergeo"
           }
          ],
          "scattergl": [
           {
            "marker": {
             "colorbar": {
              "outlinewidth": 0,
              "ticks": ""
             }
            },
            "type": "scattergl"
           }
          ],
          "scattermapbox": [
           {
            "marker": {
             "colorbar": {
              "outlinewidth": 0,
              "ticks": ""
             }
            },
            "type": "scattermapbox"
           }
          ],
          "scatterpolar": [
           {
            "marker": {
             "colorbar": {
              "outlinewidth": 0,
              "ticks": ""
             }
            },
            "type": "scatterpolar"
           }
          ],
          "scatterpolargl": [
           {
            "marker": {
             "colorbar": {
              "outlinewidth": 0,
              "ticks": ""
             }
            },
            "type": "scatterpolargl"
           }
          ],
          "scatterternary": [
           {
            "marker": {
             "colorbar": {
              "outlinewidth": 0,
              "ticks": ""
             }
            },
            "type": "scatterternary"
           }
          ],
          "surface": [
           {
            "colorbar": {
             "outlinewidth": 0,
             "ticks": ""
            },
            "colorscale": [
             [
              0,
              "#0d0887"
             ],
             [
              0.1111111111111111,
              "#46039f"
             ],
             [
              0.2222222222222222,
              "#7201a8"
             ],
             [
              0.3333333333333333,
              "#9c179e"
             ],
             [
              0.4444444444444444,
              "#bd3786"
             ],
             [
              0.5555555555555556,
              "#d8576b"
             ],
             [
              0.6666666666666666,
              "#ed7953"
             ],
             [
              0.7777777777777778,
              "#fb9f3a"
             ],
             [
              0.8888888888888888,
              "#fdca26"
             ],
             [
              1,
              "#f0f921"
             ]
            ],
            "type": "surface"
           }
          ],
          "table": [
           {
            "cells": {
             "fill": {
              "color": "#EBF0F8"
             },
             "line": {
              "color": "white"
             }
            },
            "header": {
             "fill": {
              "color": "#C8D4E3"
             },
             "line": {
              "color": "white"
             }
            },
            "type": "table"
           }
          ]
         },
         "layout": {
          "annotationdefaults": {
           "arrowcolor": "#2a3f5f",
           "arrowhead": 0,
           "arrowwidth": 1
          },
          "autotypenumbers": "strict",
          "coloraxis": {
           "colorbar": {
            "outlinewidth": 0,
            "ticks": ""
           }
          },
          "colorscale": {
           "diverging": [
            [
             0,
             "#8e0152"
            ],
            [
             0.1,
             "#c51b7d"
            ],
            [
             0.2,
             "#de77ae"
            ],
            [
             0.3,
             "#f1b6da"
            ],
            [
             0.4,
             "#fde0ef"
            ],
            [
             0.5,
             "#f7f7f7"
            ],
            [
             0.6,
             "#e6f5d0"
            ],
            [
             0.7,
             "#b8e186"
            ],
            [
             0.8,
             "#7fbc41"
            ],
            [
             0.9,
             "#4d9221"
            ],
            [
             1,
             "#276419"
            ]
           ],
           "sequential": [
            [
             0,
             "#0d0887"
            ],
            [
             0.1111111111111111,
             "#46039f"
            ],
            [
             0.2222222222222222,
             "#7201a8"
            ],
            [
             0.3333333333333333,
             "#9c179e"
            ],
            [
             0.4444444444444444,
             "#bd3786"
            ],
            [
             0.5555555555555556,
             "#d8576b"
            ],
            [
             0.6666666666666666,
             "#ed7953"
            ],
            [
             0.7777777777777778,
             "#fb9f3a"
            ],
            [
             0.8888888888888888,
             "#fdca26"
            ],
            [
             1,
             "#f0f921"
            ]
           ],
           "sequentialminus": [
            [
             0,
             "#0d0887"
            ],
            [
             0.1111111111111111,
             "#46039f"
            ],
            [
             0.2222222222222222,
             "#7201a8"
            ],
            [
             0.3333333333333333,
             "#9c179e"
            ],
            [
             0.4444444444444444,
             "#bd3786"
            ],
            [
             0.5555555555555556,
             "#d8576b"
            ],
            [
             0.6666666666666666,
             "#ed7953"
            ],
            [
             0.7777777777777778,
             "#fb9f3a"
            ],
            [
             0.8888888888888888,
             "#fdca26"
            ],
            [
             1,
             "#f0f921"
            ]
           ]
          },
          "colorway": [
           "#636efa",
           "#EF553B",
           "#00cc96",
           "#ab63fa",
           "#FFA15A",
           "#19d3f3",
           "#FF6692",
           "#B6E880",
           "#FF97FF",
           "#FECB52"
          ],
          "font": {
           "color": "#2a3f5f"
          },
          "geo": {
           "bgcolor": "white",
           "lakecolor": "white",
           "landcolor": "white",
           "showlakes": true,
           "showland": true,
           "subunitcolor": "#C8D4E3"
          },
          "hoverlabel": {
           "align": "left"
          },
          "hovermode": "closest",
          "mapbox": {
           "style": "light"
          },
          "paper_bgcolor": "white",
          "plot_bgcolor": "white",
          "polar": {
           "angularaxis": {
            "gridcolor": "#EBF0F8",
            "linecolor": "#EBF0F8",
            "ticks": ""
           },
           "bgcolor": "white",
           "radialaxis": {
            "gridcolor": "#EBF0F8",
            "linecolor": "#EBF0F8",
            "ticks": ""
           }
          },
          "scene": {
           "xaxis": {
            "backgroundcolor": "white",
            "gridcolor": "#DFE8F3",
            "gridwidth": 2,
            "linecolor": "#EBF0F8",
            "showbackground": true,
            "ticks": "",
            "zerolinecolor": "#EBF0F8"
           },
           "yaxis": {
            "backgroundcolor": "white",
            "gridcolor": "#DFE8F3",
            "gridwidth": 2,
            "linecolor": "#EBF0F8",
            "showbackground": true,
            "ticks": "",
            "zerolinecolor": "#EBF0F8"
           },
           "zaxis": {
            "backgroundcolor": "white",
            "gridcolor": "#DFE8F3",
            "gridwidth": 2,
            "linecolor": "#EBF0F8",
            "showbackground": true,
            "ticks": "",
            "zerolinecolor": "#EBF0F8"
           }
          },
          "shapedefaults": {
           "line": {
            "color": "#2a3f5f"
           }
          },
          "ternary": {
           "aaxis": {
            "gridcolor": "#DFE8F3",
            "linecolor": "#A2B1C6",
            "ticks": ""
           },
           "baxis": {
            "gridcolor": "#DFE8F3",
            "linecolor": "#A2B1C6",
            "ticks": ""
           },
           "bgcolor": "white",
           "caxis": {
            "gridcolor": "#DFE8F3",
            "linecolor": "#A2B1C6",
            "ticks": ""
           }
          },
          "title": {
           "x": 0.05
          },
          "xaxis": {
           "automargin": true,
           "gridcolor": "#EBF0F8",
           "linecolor": "#EBF0F8",
           "ticks": "",
           "title": {
            "standoff": 15
           },
           "zerolinecolor": "#EBF0F8",
           "zerolinewidth": 2
          },
          "yaxis": {
           "automargin": true,
           "gridcolor": "#EBF0F8",
           "linecolor": "#EBF0F8",
           "ticks": "",
           "title": {
            "standoff": 15
           },
           "zerolinecolor": "#EBF0F8",
           "zerolinewidth": 2
          }
         }
        },
        "xaxis": {
         "anchor": "y",
         "domain": [
          0,
          1
         ],
         "title": {
          "text": "Cost Total [in log scale]"
         },
         "type": "log"
        },
        "yaxis": {
         "anchor": "x",
         "domain": [
          0,
          1
         ],
         "title": {
          "text": "Fidelity"
         }
        }
       }
      }
     },
     "metadata": {},
     "output_type": "display_data"
    }
   ],
   "source": [
    "\"\"\"removed_column_cost = azure_data_cost.columns[0]\n",
    "azure_data_cost = azure_data_cost.drop(columns=[removed_column_cost])\n",
    "\n",
    "\n",
    "removed_column2_cost = aws_data_cost.columns[0]\n",
    "aws_data_cost = aws_data_cost.drop(columns=[removed_column2_cost])\"\"\"\n",
    "        # retrieve fidelities from aws and azure data csv\n",
    "        # add them to the dmerge the fidelities from the aws data and azure data together \n",
    "        # merge the cost estimates from \n",
    "        # add the fidelity from the aws data and azure data dataframe into \n",
    "\n",
    "\"\"\"azure_fidelity = azure_data[\"Fidelity\"] \n",
    "aws_fidelity = aws_data[\"Fidelity\"]\n",
    "fidelities = pd.concat([azure_fidelity, aws_fidelity], axis=1)\n",
    "print(fidelities)\"\"\"\n",
    "# merge this all into one series \n",
    "\n",
    "# \n",
    "\n",
    "azure_merge = azure_data_cost [[\"Target\", \"Number of Qubits\", \"Fidelity\", \"Cost Estimate\"]]\n",
    "\n",
    "aws_merge = aws_data_cost [[\"Target\", \"Number of Qubits\", \"Fidelity\", \"Cost Estimate\"]]\n",
    "\n",
    "\n",
    "dataframe = [azure_merge, aws_merge]\n",
    "\n",
    "both_provider_data = pd.concat(dataframe)\n",
    "#both_provider_all = pd.concat([both_provider_data, fidelities], axis=0, ignore_index = True)\n",
    "\n",
    "both_provider_data[\"Number of Qubits\"] = both_provider_data[\"Number of Qubits\"].astype(str)\n",
    "\n",
    "both_filtered_scatter = both_provider_data[both_provider_data['Number of Qubits'].str.contains('8')]\n",
    "both_filtered_scatter['size'] = (both_filtered_scatter['Cost Estimate'] - both_filtered_scatter['Cost Estimate'].min()) / (both_filtered_scatter['Cost Estimate'].max() - both_filtered_scatter['Cost Estimate'].min()) * 50 + 10\n",
    "fig = px.scatter(both_filtered_scatter, x = 'Cost Estimate', y = 'Fidelity', color = 'Target', size = 'size')\n",
    "        #fig.update_traces(marker=dict(size=30))\n",
    "fig.update_xaxes(type='log', title = \"Cost Total [in log scale]\")\n",
    "fig "
   ]
  },
  {
   "cell_type": "code",
   "execution_count": 4,
   "metadata": {},
   "outputs": [
    {
     "name": "stdout",
     "output_type": "stream",
     "text": [
      "     Fidelity  Fidelity\n",
      "0    0.130062  0.144723\n",
      "1    0.626334  0.671745\n",
      "2    0.675497  0.009863\n",
      "3    0.015363  0.107876\n",
      "4    0.125071  0.141224\n",
      "..        ...       ...\n",
      "272  0.121477       NaN\n",
      "273  0.139794       NaN\n",
      "274  0.600362       NaN\n",
      "275  0.662499       NaN\n",
      "276  0.647610       NaN\n",
      "\n",
      "[277 rows x 2 columns]\n"
     ]
    }
   ],
   "source": [
    "azure_fidelity = azure_data[\"Fidelity\"] \n",
    "aws_fidelity = aws_data[\"Fidelity\"]\n",
    "fidelities = pd.concat([azure_fidelity, aws_fidelity], axis=1)\n",
    "print(fidelities)\n",
    "\n"
   ]
  },
  {
   "cell_type": "code",
   "execution_count": 5,
   "metadata": {},
   "outputs": [
    {
     "name": "stdout",
     "output_type": "stream",
     "text": [
      "                Target Target Status\n",
      "0      ionq.qpu.aria-1   Unavailable\n",
      "1      ionq.qpu.aria-2     Available\n",
      "2             ionq.qpu     Available\n",
      "3       ionq.simulator     Available\n",
      "4  quantinuum.qpu.h1-1      Degraded\n",
      "5  quantinuum.qpu.h2-1      Degraded\n",
      "6  rigetti.qpu.ankaa-2     Available\n",
      "0               Aria 1       OFFLINE\n",
      "1               Aria 2        ONLINE\n",
      "2            Aspen-M-3       OFFLINE\n",
      "3               Garnet        ONLINE\n",
      "4              Harmony        ONLINE\n"
     ]
    }
   ],
   "source": [
    "frames = [status_azure, status_aws]\n",
    "both_provider_status = pd.concat(frames)\n",
    "\n",
    "both_provider_status = both_provider_status[[\"Target\", \"Target Status\"]]\n",
    "print(both_provider_status)"
   ]
  },
  {
   "cell_type": "code",
   "execution_count": 6,
   "metadata": {},
   "outputs": [
    {
     "ename": "KeyError",
     "evalue": "'Target Status'",
     "output_type": "error",
     "traceback": [
      "\u001b[0;31m---------------------------------------------------------------------------\u001b[0m",
      "\u001b[0;31mKeyError\u001b[0m                                  Traceback (most recent call last)",
      "File \u001b[0;32m~/anaconda3/envs/qiskitv1/lib/python3.10/site-packages/pandas/core/indexes/base.py:3653\u001b[0m, in \u001b[0;36mIndex.get_loc\u001b[0;34m(self, key)\u001b[0m\n\u001b[1;32m   3652\u001b[0m \u001b[38;5;28;01mtry\u001b[39;00m:\n\u001b[0;32m-> 3653\u001b[0m     \u001b[38;5;28;01mreturn\u001b[39;00m \u001b[38;5;28;43mself\u001b[39;49m\u001b[38;5;241;43m.\u001b[39;49m\u001b[43m_engine\u001b[49m\u001b[38;5;241;43m.\u001b[39;49m\u001b[43mget_loc\u001b[49m\u001b[43m(\u001b[49m\u001b[43mcasted_key\u001b[49m\u001b[43m)\u001b[49m\n\u001b[1;32m   3654\u001b[0m \u001b[38;5;28;01mexcept\u001b[39;00m \u001b[38;5;167;01mKeyError\u001b[39;00m \u001b[38;5;28;01mas\u001b[39;00m err:\n",
      "File \u001b[0;32m~/anaconda3/envs/qiskitv1/lib/python3.10/site-packages/pandas/_libs/index.pyx:147\u001b[0m, in \u001b[0;36mpandas._libs.index.IndexEngine.get_loc\u001b[0;34m()\u001b[0m\n",
      "File \u001b[0;32m~/anaconda3/envs/qiskitv1/lib/python3.10/site-packages/pandas/_libs/index.pyx:176\u001b[0m, in \u001b[0;36mpandas._libs.index.IndexEngine.get_loc\u001b[0;34m()\u001b[0m\n",
      "File \u001b[0;32mpandas/_libs/hashtable_class_helper.pxi:7080\u001b[0m, in \u001b[0;36mpandas._libs.hashtable.PyObjectHashTable.get_item\u001b[0;34m()\u001b[0m\n",
      "File \u001b[0;32mpandas/_libs/hashtable_class_helper.pxi:7088\u001b[0m, in \u001b[0;36mpandas._libs.hashtable.PyObjectHashTable.get_item\u001b[0;34m()\u001b[0m\n",
      "\u001b[0;31mKeyError\u001b[0m: 'Target Status'",
      "\nThe above exception was the direct cause of the following exception:\n",
      "\u001b[0;31mKeyError\u001b[0m                                  Traceback (most recent call last)",
      "Cell \u001b[0;32mIn[6], line 4\u001b[0m\n\u001b[1;32m      2\u001b[0m azure_data_fail[\u001b[38;5;124m\"\u001b[39m\u001b[38;5;124mProvider\u001b[39m\u001b[38;5;124m\"\u001b[39m] \u001b[38;5;241m=\u001b[39m \u001b[38;5;124m\"\u001b[39m\u001b[38;5;124mAzure\u001b[39m\u001b[38;5;124m\"\u001b[39m\n\u001b[1;32m      3\u001b[0m \u001b[38;5;66;03m#cut out stuff BEFORE\u001b[39;00m\n\u001b[0;32m----> 4\u001b[0m azure_data_fail[\u001b[38;5;124m\"\u001b[39m\u001b[38;5;124mTarget Status\u001b[39m\u001b[38;5;124m\"\u001b[39m] \u001b[38;5;241m=\u001b[39m \u001b[43mazure_data_fail\u001b[49m\u001b[43m[\u001b[49m\u001b[38;5;124;43m\"\u001b[39;49m\u001b[38;5;124;43mTarget Status\u001b[39;49m\u001b[38;5;124;43m\"\u001b[39;49m\u001b[43m]\u001b[49m\u001b[38;5;241m.\u001b[39mastype(\u001b[38;5;28mstr\u001b[39m)\n\u001b[1;32m      5\u001b[0m azure_data_fail[\u001b[38;5;124m'\u001b[39m\u001b[38;5;124mTarget Status\u001b[39m\u001b[38;5;124m'\u001b[39m] \u001b[38;5;241m=\u001b[39m azure_data_fail[\u001b[38;5;124m'\u001b[39m\u001b[38;5;124mTarget Status\u001b[39m\u001b[38;5;124m'\u001b[39m]\u001b[38;5;241m.\u001b[39mstr\u001b[38;5;241m.\u001b[39msplit(\u001b[38;5;124m\"\u001b[39m\u001b[38;5;124mindex Target Status\u001b[39m\u001b[38;5;130;01m\\n\u001b[39;00m\u001b[38;5;124m0       0 \u001b[39m\u001b[38;5;124m\"\u001b[39m)\u001b[38;5;241m.\u001b[39mstr[\u001b[38;5;241m1\u001b[39m]\n\u001b[1;32m      7\u001b[0m aws_data_fail[\u001b[38;5;124m\"\u001b[39m\u001b[38;5;124mProvider\u001b[39m\u001b[38;5;124m\"\u001b[39m] \u001b[38;5;241m=\u001b[39m \u001b[38;5;124m\"\u001b[39m\u001b[38;5;124mAWS\u001b[39m\u001b[38;5;124m\"\u001b[39m\n",
      "File \u001b[0;32m~/anaconda3/envs/qiskitv1/lib/python3.10/site-packages/pandas/core/frame.py:3761\u001b[0m, in \u001b[0;36mDataFrame.__getitem__\u001b[0;34m(self, key)\u001b[0m\n\u001b[1;32m   3759\u001b[0m \u001b[38;5;28;01mif\u001b[39;00m \u001b[38;5;28mself\u001b[39m\u001b[38;5;241m.\u001b[39mcolumns\u001b[38;5;241m.\u001b[39mnlevels \u001b[38;5;241m>\u001b[39m \u001b[38;5;241m1\u001b[39m:\n\u001b[1;32m   3760\u001b[0m     \u001b[38;5;28;01mreturn\u001b[39;00m \u001b[38;5;28mself\u001b[39m\u001b[38;5;241m.\u001b[39m_getitem_multilevel(key)\n\u001b[0;32m-> 3761\u001b[0m indexer \u001b[38;5;241m=\u001b[39m \u001b[38;5;28;43mself\u001b[39;49m\u001b[38;5;241;43m.\u001b[39;49m\u001b[43mcolumns\u001b[49m\u001b[38;5;241;43m.\u001b[39;49m\u001b[43mget_loc\u001b[49m\u001b[43m(\u001b[49m\u001b[43mkey\u001b[49m\u001b[43m)\u001b[49m\n\u001b[1;32m   3762\u001b[0m \u001b[38;5;28;01mif\u001b[39;00m is_integer(indexer):\n\u001b[1;32m   3763\u001b[0m     indexer \u001b[38;5;241m=\u001b[39m [indexer]\n",
      "File \u001b[0;32m~/anaconda3/envs/qiskitv1/lib/python3.10/site-packages/pandas/core/indexes/base.py:3655\u001b[0m, in \u001b[0;36mIndex.get_loc\u001b[0;34m(self, key)\u001b[0m\n\u001b[1;32m   3653\u001b[0m     \u001b[38;5;28;01mreturn\u001b[39;00m \u001b[38;5;28mself\u001b[39m\u001b[38;5;241m.\u001b[39m_engine\u001b[38;5;241m.\u001b[39mget_loc(casted_key)\n\u001b[1;32m   3654\u001b[0m \u001b[38;5;28;01mexcept\u001b[39;00m \u001b[38;5;167;01mKeyError\u001b[39;00m \u001b[38;5;28;01mas\u001b[39;00m err:\n\u001b[0;32m-> 3655\u001b[0m     \u001b[38;5;28;01mraise\u001b[39;00m \u001b[38;5;167;01mKeyError\u001b[39;00m(key) \u001b[38;5;28;01mfrom\u001b[39;00m \u001b[38;5;21;01merr\u001b[39;00m\n\u001b[1;32m   3656\u001b[0m \u001b[38;5;28;01mexcept\u001b[39;00m \u001b[38;5;167;01mTypeError\u001b[39;00m:\n\u001b[1;32m   3657\u001b[0m     \u001b[38;5;66;03m# If we have a listlike key, _check_indexing_error will raise\u001b[39;00m\n\u001b[1;32m   3658\u001b[0m     \u001b[38;5;66;03m#  InvalidIndexError. Otherwise we fall through and re-raise\u001b[39;00m\n\u001b[1;32m   3659\u001b[0m     \u001b[38;5;66;03m#  the TypeError.\u001b[39;00m\n\u001b[1;32m   3660\u001b[0m     \u001b[38;5;28mself\u001b[39m\u001b[38;5;241m.\u001b[39m_check_indexing_error(key)\n",
      "\u001b[0;31mKeyError\u001b[0m: 'Target Status'"
     ]
    }
   ],
   "source": [
    "#qpu , qpu status, provider \n",
    "azure_data_fail[\"Provider\"] = \"Azure\"\n",
    "#cut out stuff BEFORE\n",
    "azure_data_fail[\"Target Status\"] = azure_data_fail[\"Target Status\"].astype(str)\n",
    "azure_data_fail['Target Status'] = azure_data_fail['Target Status'].str.split(\"index Target Status\\n0       0 \").str[1]\n",
    "\n",
    "aws_data_fail[\"Provider\"] = \"AWS\"\n",
    "azure_tomerge_status = azure_data_fail[[\"Target Status\", \"Provider\", \"Target\", \"Job ID\"]]\n",
    "\n",
    "\n",
    "aws_tomerge_status = aws_data_fail[[\"Target Status\", \"Provider\", \"Target\", \"Job ID\"]]\n",
    "\n",
    "\n",
    "frames = [azure_tomerge_status, aws_tomerge_status]\n",
    "both_provider_data_table = pd.concat(frames) #this is big\n",
    "grouped_qpu= both_provider_data_table.groupby(\"Target\")[\"Job ID\"].count().reset_index().rename(mapper = {\"Job ID\":\"num_total_jobs\"}, axis  = 1)\n",
    "error_df = azure_data_fail.groupby([\"Target\", \"Target Status\"])[\"Job ID\"].count().reset_index().rename(mapper = {\"Job ID\":\"error_count\"}, axis  = 1)\n",
    "\n",
    "#rouped_qpu = both_provider_data_table.groupby(\"Target\")\n",
    "\n",
    "merged_df = error_df.merge(grouped_qpu)\n",
    "#cut out stuff BEFORE\n",
    "\n",
    "print(merged_df)\n",
    "        "
   ]
  },
  {
   "cell_type": "code",
   "execution_count": null,
   "metadata": {},
   "outputs": [],
   "source": [
    "# COST ESTIMATE AWS\n",
    "fig = px.bar(aws_data_cost, x = 'Target', y = 'Cost Estimate', color = 'Target', color_discrete_sequence=[\"#4dac26\",\"#92c5de\" , \"#dfc27d\"])\n",
    "fig.update_yaxes(type='linear', title = \"Cost Estimate [in linear scale]\")\n",
    "fig.update_layout(showlegend=False)\n",
    "\n",
    "fig\n"
   ]
  },
  {
   "cell_type": "code",
   "execution_count": null,
   "metadata": {},
   "outputs": [],
   "source": [
    "# COST ESTIMATE AZURE \n",
    "# 1) i need to group the cost estimates by target\n",
    "# 2) x axis shows the targets, y axis the cost estimate \n",
    "fig = px.box(azure_data_cost, x = 'Target', y = 'Cost Estimate', title = 'Cost Estimates (USD) vs. QPU',  color = 'Target')\n",
    "fig.update_yaxes( title = \"Cost Estimate (in log scale)\")\n",
    "\n",
    "#fig.update_xaxes(color = [\"sandybrown\",\"seagreen\",\"tomato\",\"violet\",\"wheat\",\"steelblue\"])\n",
    "\n",
    "#fig.update_yaxes(log_y = True)\n",
    "#azure_data_cost['Cost Estimate'].plot(kind='hist', logy=True)\n",
    "fig \n",
    "\n",
    "\n",
    "#cost_estimate = azure_data_cost['Cost Estimate']\n",
    "#print(cost_estimate)"
   ]
  },
  {
   "cell_type": "code",
   "execution_count": 7,
   "metadata": {},
   "outputs": [],
   "source": [
    "#final thing \n",
    "#group by the target \n",
    "#need to find count of jobs ran, then count of failed jobs, then count of each specific value from error message\n",
    "\n",
    "\n",
    "#cut out stuff AFTER orthogonal bc it is diff for each job(too many colors were showing up for the same error)\n",
    "azure_data_fail['Failure Message'] = azure_data_fail['Failure Message'].str.split('orthogonal').str[0]\n",
    "#cut out stuff BEFORE\n",
    "azure_data_fail['Failure Message'] = azure_data_fail['Failure Message'].str.split(\"'code':\").str[1]\n",
    "\n",
    "\n",
    "\n",
    "count_df = azure_data_fail.groupby(\"Target\")[\"Job ID\"].count().reset_index().rename(mapper = {\"Job ID\":\"num_total_jobs\"}, axis  = 1)\n",
    " \n",
    "\n",
    "#counts of total failures\n",
    " \n",
    "failure_df = azure_data_fail.groupby(\"Target\")[\"Job Status\"].apply(lambda x: (x == \"JobStatus.ERROR\").sum()).reset_index().rename(mapper = {\"Job Status\":\"num_failed_jobs\"}, axis  = 1)\n",
    " \n",
    " \n",
    "# counts of failures by type\n",
    " \n",
    "error_df = azure_data_fail.groupby([\"Target\", \"Failure Message\"])[\"Job ID\"].count().reset_index().rename(mapper = {\"Job ID\":\"error_count\"}, axis  = 1)\n"
   ]
  },
  {
   "cell_type": "code",
   "execution_count": 8,
   "metadata": {},
   "outputs": [
    {
     "data": {
      "text/html": [
       "<div>\n",
       "<style scoped>\n",
       "    .dataframe tbody tr th:only-of-type {\n",
       "        vertical-align: middle;\n",
       "    }\n",
       "\n",
       "    .dataframe tbody tr th {\n",
       "        vertical-align: top;\n",
       "    }\n",
       "\n",
       "    .dataframe thead th {\n",
       "        text-align: right;\n",
       "    }\n",
       "</style>\n",
       "<table border=\"1\" class=\"dataframe\">\n",
       "  <thead>\n",
       "    <tr style=\"text-align: right;\">\n",
       "      <th></th>\n",
       "      <th>Target</th>\n",
       "      <th>Failure Message</th>\n",
       "      <th>error_count</th>\n",
       "      <th>num_total_jobs</th>\n",
       "      <th>num_failed_jobs</th>\n",
       "      <th>failure_rate</th>\n",
       "      <th>error_rate</th>\n",
       "    </tr>\n",
       "  </thead>\n",
       "  <tbody>\n",
       "    <tr>\n",
       "      <th>0</th>\n",
       "      <td>quantinuum.qpu.h1-1</td>\n",
       "      <td>'400', 'message': '81 - Duplicate job id'}</td>\n",
       "      <td>1</td>\n",
       "      <td>69</td>\n",
       "      <td>2</td>\n",
       "      <td>2.898551</td>\n",
       "      <td>1.449275</td>\n",
       "    </tr>\n",
       "    <tr>\n",
       "      <th>2</th>\n",
       "      <td>quantinuum.qpu.h2-1</td>\n",
       "      <td>'400', 'message': '81 - Duplicate job id'}</td>\n",
       "      <td>2</td>\n",
       "      <td>88</td>\n",
       "      <td>3</td>\n",
       "      <td>3.409091</td>\n",
       "      <td>2.272727</td>\n",
       "    </tr>\n",
       "    <tr>\n",
       "      <th>4</th>\n",
       "      <td>rigetti.qpu.ankaa-2</td>\n",
       "      <td>'InvalidInputData', 'message': 'Problem compi...</td>\n",
       "      <td>51</td>\n",
       "      <td>88</td>\n",
       "      <td>52</td>\n",
       "      <td>59.090909</td>\n",
       "      <td>57.954545</td>\n",
       "    </tr>\n",
       "    <tr>\n",
       "      <th>5</th>\n",
       "      <td>rigetti.qpu.ankaa-2</td>\n",
       "      <td>'TransientFailure', 'message': 'Internal error'}</td>\n",
       "      <td>1</td>\n",
       "      <td>88</td>\n",
       "      <td>52</td>\n",
       "      <td>59.090909</td>\n",
       "      <td>1.136364</td>\n",
       "    </tr>\n",
       "  </tbody>\n",
       "</table>\n",
       "</div>"
      ],
      "text/plain": [
       "                Target                                    Failure Message  \\\n",
       "0  quantinuum.qpu.h1-1         '400', 'message': '81 - Duplicate job id'}   \n",
       "2  quantinuum.qpu.h2-1         '400', 'message': '81 - Duplicate job id'}   \n",
       "4  rigetti.qpu.ankaa-2   'InvalidInputData', 'message': 'Problem compi...   \n",
       "5  rigetti.qpu.ankaa-2   'TransientFailure', 'message': 'Internal error'}   \n",
       "\n",
       "   error_count  num_total_jobs  num_failed_jobs  failure_rate  error_rate  \n",
       "0            1              69                2      2.898551    1.449275  \n",
       "2            2              88                3      3.409091    2.272727  \n",
       "4           51              88               52     59.090909   57.954545  \n",
       "5            1              88               52     59.090909    1.136364  "
      ]
     },
     "execution_count": 8,
     "metadata": {},
     "output_type": "execute_result"
    }
   ],
   "source": [
    "# merge df\n",
    " \n",
    "merged_df = error_df.merge(count_df).merge(failure_df)\n",
    " \n",
    "#get proportions\n",
    " \n",
    "merged_df[\"failure_rate\"] = (merged_df[\"num_failed_jobs\"] / merged_df[\"num_total_jobs\"])*100\n",
    "\n",
    "#use this  for y \n",
    "merged_df[\"error_rate\"] = merged_df[\"failure_rate\"] * (merged_df[\"error_count\"] / merged_df[\"num_failed_jobs\"])\n",
    "\n",
    "merged_df[\"Failure Message\"] = merged_df[\"Failure Message\"].astype(str)\n",
    "substring = 'NotEnoughQuota'\n",
    "filter = merged_df['Failure Message'].str.contains(substring)\n",
    "merged_df = merged_df[~filter]\n",
    "\n",
    "merged_df"
   ]
  },
  {
   "cell_type": "code",
   "execution_count": 9,
   "metadata": {},
   "outputs": [
    {
     "data": {
      "application/vnd.plotly.v1+json": {
       "config": {
        "plotlyServerURL": "https://plot.ly"
       },
       "data": [
        {
         "alignmentgroup": "True",
         "hovertemplate": "Failure Message=Duplicate Job ID<br>Target=%{x}<br>error_rate=%{y}<extra></extra>",
         "legendgroup": "Duplicate Job ID",
         "marker": {
          "color": "#636efa",
          "pattern": {
           "shape": ""
          }
         },
         "name": "Duplicate Job ID",
         "offsetgroup": "Duplicate Job ID",
         "orientation": "v",
         "showlegend": true,
         "textposition": "auto",
         "type": "bar",
         "x": [
          "quantinuum.qpu.h1-1",
          "quantinuum.qpu.h2-1"
         ],
         "xaxis": "x",
         "y": [
          1.4492753623188406,
          2.2727272727272725
         ],
         "yaxis": "y"
        },
        {
         "alignmentgroup": "True",
         "hovertemplate": "Failure Message=Invalid Input Data<br>Target=%{x}<br>error_rate=%{y}<extra></extra>",
         "legendgroup": "Invalid Input Data",
         "marker": {
          "color": "#EF553B",
          "pattern": {
           "shape": ""
          }
         },
         "name": "Invalid Input Data",
         "offsetgroup": "Invalid Input Data",
         "orientation": "v",
         "showlegend": true,
         "textposition": "auto",
         "type": "bar",
         "x": [
          "rigetti.qpu.ankaa-2"
         ],
         "xaxis": "x",
         "y": [
          57.95454545454545
         ],
         "yaxis": "y"
        },
        {
         "alignmentgroup": "True",
         "hovertemplate": "Failure Message=Transient Failure<br>Target=%{x}<br>error_rate=%{y}<extra></extra>",
         "legendgroup": "Transient Failure",
         "marker": {
          "color": "#00cc96",
          "pattern": {
           "shape": ""
          }
         },
         "name": "Transient Failure",
         "offsetgroup": "Transient Failure",
         "orientation": "v",
         "showlegend": true,
         "textposition": "auto",
         "type": "bar",
         "x": [
          "rigetti.qpu.ankaa-2"
         ],
         "xaxis": "x",
         "y": [
          1.1363636363636365
         ],
         "yaxis": "y"
        }
       ],
       "layout": {
        "barmode": "stack",
        "legend": {
         "title": {
          "text": "Error"
         },
         "tracegroupgap": 0
        },
        "showlegend": true,
        "template": {
         "data": {
          "bar": [
           {
            "error_x": {
             "color": "#2a3f5f"
            },
            "error_y": {
             "color": "#2a3f5f"
            },
            "marker": {
             "line": {
              "color": "white",
              "width": 0.5
             },
             "pattern": {
              "fillmode": "overlay",
              "size": 10,
              "solidity": 0.2
             }
            },
            "type": "bar"
           }
          ],
          "barpolar": [
           {
            "marker": {
             "line": {
              "color": "white",
              "width": 0.5
             },
             "pattern": {
              "fillmode": "overlay",
              "size": 10,
              "solidity": 0.2
             }
            },
            "type": "barpolar"
           }
          ],
          "carpet": [
           {
            "aaxis": {
             "endlinecolor": "#2a3f5f",
             "gridcolor": "#C8D4E3",
             "linecolor": "#C8D4E3",
             "minorgridcolor": "#C8D4E3",
             "startlinecolor": "#2a3f5f"
            },
            "baxis": {
             "endlinecolor": "#2a3f5f",
             "gridcolor": "#C8D4E3",
             "linecolor": "#C8D4E3",
             "minorgridcolor": "#C8D4E3",
             "startlinecolor": "#2a3f5f"
            },
            "type": "carpet"
           }
          ],
          "choropleth": [
           {
            "colorbar": {
             "outlinewidth": 0,
             "ticks": ""
            },
            "type": "choropleth"
           }
          ],
          "contour": [
           {
            "colorbar": {
             "outlinewidth": 0,
             "ticks": ""
            },
            "colorscale": [
             [
              0,
              "#0d0887"
             ],
             [
              0.1111111111111111,
              "#46039f"
             ],
             [
              0.2222222222222222,
              "#7201a8"
             ],
             [
              0.3333333333333333,
              "#9c179e"
             ],
             [
              0.4444444444444444,
              "#bd3786"
             ],
             [
              0.5555555555555556,
              "#d8576b"
             ],
             [
              0.6666666666666666,
              "#ed7953"
             ],
             [
              0.7777777777777778,
              "#fb9f3a"
             ],
             [
              0.8888888888888888,
              "#fdca26"
             ],
             [
              1,
              "#f0f921"
             ]
            ],
            "type": "contour"
           }
          ],
          "contourcarpet": [
           {
            "colorbar": {
             "outlinewidth": 0,
             "ticks": ""
            },
            "type": "contourcarpet"
           }
          ],
          "heatmap": [
           {
            "colorbar": {
             "outlinewidth": 0,
             "ticks": ""
            },
            "colorscale": [
             [
              0,
              "#0d0887"
             ],
             [
              0.1111111111111111,
              "#46039f"
             ],
             [
              0.2222222222222222,
              "#7201a8"
             ],
             [
              0.3333333333333333,
              "#9c179e"
             ],
             [
              0.4444444444444444,
              "#bd3786"
             ],
             [
              0.5555555555555556,
              "#d8576b"
             ],
             [
              0.6666666666666666,
              "#ed7953"
             ],
             [
              0.7777777777777778,
              "#fb9f3a"
             ],
             [
              0.8888888888888888,
              "#fdca26"
             ],
             [
              1,
              "#f0f921"
             ]
            ],
            "type": "heatmap"
           }
          ],
          "heatmapgl": [
           {
            "colorbar": {
             "outlinewidth": 0,
             "ticks": ""
            },
            "colorscale": [
             [
              0,
              "#0d0887"
             ],
             [
              0.1111111111111111,
              "#46039f"
             ],
             [
              0.2222222222222222,
              "#7201a8"
             ],
             [
              0.3333333333333333,
              "#9c179e"
             ],
             [
              0.4444444444444444,
              "#bd3786"
             ],
             [
              0.5555555555555556,
              "#d8576b"
             ],
             [
              0.6666666666666666,
              "#ed7953"
             ],
             [
              0.7777777777777778,
              "#fb9f3a"
             ],
             [
              0.8888888888888888,
              "#fdca26"
             ],
             [
              1,
              "#f0f921"
             ]
            ],
            "type": "heatmapgl"
           }
          ],
          "histogram": [
           {
            "marker": {
             "pattern": {
              "fillmode": "overlay",
              "size": 10,
              "solidity": 0.2
             }
            },
            "type": "histogram"
           }
          ],
          "histogram2d": [
           {
            "colorbar": {
             "outlinewidth": 0,
             "ticks": ""
            },
            "colorscale": [
             [
              0,
              "#0d0887"
             ],
             [
              0.1111111111111111,
              "#46039f"
             ],
             [
              0.2222222222222222,
              "#7201a8"
             ],
             [
              0.3333333333333333,
              "#9c179e"
             ],
             [
              0.4444444444444444,
              "#bd3786"
             ],
             [
              0.5555555555555556,
              "#d8576b"
             ],
             [
              0.6666666666666666,
              "#ed7953"
             ],
             [
              0.7777777777777778,
              "#fb9f3a"
             ],
             [
              0.8888888888888888,
              "#fdca26"
             ],
             [
              1,
              "#f0f921"
             ]
            ],
            "type": "histogram2d"
           }
          ],
          "histogram2dcontour": [
           {
            "colorbar": {
             "outlinewidth": 0,
             "ticks": ""
            },
            "colorscale": [
             [
              0,
              "#0d0887"
             ],
             [
              0.1111111111111111,
              "#46039f"
             ],
             [
              0.2222222222222222,
              "#7201a8"
             ],
             [
              0.3333333333333333,
              "#9c179e"
             ],
             [
              0.4444444444444444,
              "#bd3786"
             ],
             [
              0.5555555555555556,
              "#d8576b"
             ],
             [
              0.6666666666666666,
              "#ed7953"
             ],
             [
              0.7777777777777778,
              "#fb9f3a"
             ],
             [
              0.8888888888888888,
              "#fdca26"
             ],
             [
              1,
              "#f0f921"
             ]
            ],
            "type": "histogram2dcontour"
           }
          ],
          "mesh3d": [
           {
            "colorbar": {
             "outlinewidth": 0,
             "ticks": ""
            },
            "type": "mesh3d"
           }
          ],
          "parcoords": [
           {
            "line": {
             "colorbar": {
              "outlinewidth": 0,
              "ticks": ""
             }
            },
            "type": "parcoords"
           }
          ],
          "pie": [
           {
            "automargin": true,
            "type": "pie"
           }
          ],
          "scatter": [
           {
            "fillpattern": {
             "fillmode": "overlay",
             "size": 10,
             "solidity": 0.2
            },
            "type": "scatter"
           }
          ],
          "scatter3d": [
           {
            "line": {
             "colorbar": {
              "outlinewidth": 0,
              "ticks": ""
             }
            },
            "marker": {
             "colorbar": {
              "outlinewidth": 0,
              "ticks": ""
             }
            },
            "type": "scatter3d"
           }
          ],
          "scattercarpet": [
           {
            "marker": {
             "colorbar": {
              "outlinewidth": 0,
              "ticks": ""
             }
            },
            "type": "scattercarpet"
           }
          ],
          "scattergeo": [
           {
            "marker": {
             "colorbar": {
              "outlinewidth": 0,
              "ticks": ""
             }
            },
            "type": "scattergeo"
           }
          ],
          "scattergl": [
           {
            "marker": {
             "colorbar": {
              "outlinewidth": 0,
              "ticks": ""
             }
            },
            "type": "scattergl"
           }
          ],
          "scattermapbox": [
           {
            "marker": {
             "colorbar": {
              "outlinewidth": 0,
              "ticks": ""
             }
            },
            "type": "scattermapbox"
           }
          ],
          "scatterpolar": [
           {
            "marker": {
             "colorbar": {
              "outlinewidth": 0,
              "ticks": ""
             }
            },
            "type": "scatterpolar"
           }
          ],
          "scatterpolargl": [
           {
            "marker": {
             "colorbar": {
              "outlinewidth": 0,
              "ticks": ""
             }
            },
            "type": "scatterpolargl"
           }
          ],
          "scatterternary": [
           {
            "marker": {
             "colorbar": {
              "outlinewidth": 0,
              "ticks": ""
             }
            },
            "type": "scatterternary"
           }
          ],
          "surface": [
           {
            "colorbar": {
             "outlinewidth": 0,
             "ticks": ""
            },
            "colorscale": [
             [
              0,
              "#0d0887"
             ],
             [
              0.1111111111111111,
              "#46039f"
             ],
             [
              0.2222222222222222,
              "#7201a8"
             ],
             [
              0.3333333333333333,
              "#9c179e"
             ],
             [
              0.4444444444444444,
              "#bd3786"
             ],
             [
              0.5555555555555556,
              "#d8576b"
             ],
             [
              0.6666666666666666,
              "#ed7953"
             ],
             [
              0.7777777777777778,
              "#fb9f3a"
             ],
             [
              0.8888888888888888,
              "#fdca26"
             ],
             [
              1,
              "#f0f921"
             ]
            ],
            "type": "surface"
           }
          ],
          "table": [
           {
            "cells": {
             "fill": {
              "color": "#EBF0F8"
             },
             "line": {
              "color": "white"
             }
            },
            "header": {
             "fill": {
              "color": "#C8D4E3"
             },
             "line": {
              "color": "white"
             }
            },
            "type": "table"
           }
          ]
         },
         "layout": {
          "annotationdefaults": {
           "arrowcolor": "#2a3f5f",
           "arrowhead": 0,
           "arrowwidth": 1
          },
          "autotypenumbers": "strict",
          "coloraxis": {
           "colorbar": {
            "outlinewidth": 0,
            "ticks": ""
           }
          },
          "colorscale": {
           "diverging": [
            [
             0,
             "#8e0152"
            ],
            [
             0.1,
             "#c51b7d"
            ],
            [
             0.2,
             "#de77ae"
            ],
            [
             0.3,
             "#f1b6da"
            ],
            [
             0.4,
             "#fde0ef"
            ],
            [
             0.5,
             "#f7f7f7"
            ],
            [
             0.6,
             "#e6f5d0"
            ],
            [
             0.7,
             "#b8e186"
            ],
            [
             0.8,
             "#7fbc41"
            ],
            [
             0.9,
             "#4d9221"
            ],
            [
             1,
             "#276419"
            ]
           ],
           "sequential": [
            [
             0,
             "#0d0887"
            ],
            [
             0.1111111111111111,
             "#46039f"
            ],
            [
             0.2222222222222222,
             "#7201a8"
            ],
            [
             0.3333333333333333,
             "#9c179e"
            ],
            [
             0.4444444444444444,
             "#bd3786"
            ],
            [
             0.5555555555555556,
             "#d8576b"
            ],
            [
             0.6666666666666666,
             "#ed7953"
            ],
            [
             0.7777777777777778,
             "#fb9f3a"
            ],
            [
             0.8888888888888888,
             "#fdca26"
            ],
            [
             1,
             "#f0f921"
            ]
           ],
           "sequentialminus": [
            [
             0,
             "#0d0887"
            ],
            [
             0.1111111111111111,
             "#46039f"
            ],
            [
             0.2222222222222222,
             "#7201a8"
            ],
            [
             0.3333333333333333,
             "#9c179e"
            ],
            [
             0.4444444444444444,
             "#bd3786"
            ],
            [
             0.5555555555555556,
             "#d8576b"
            ],
            [
             0.6666666666666666,
             "#ed7953"
            ],
            [
             0.7777777777777778,
             "#fb9f3a"
            ],
            [
             0.8888888888888888,
             "#fdca26"
            ],
            [
             1,
             "#f0f921"
            ]
           ]
          },
          "colorway": [
           "#636efa",
           "#EF553B",
           "#00cc96",
           "#ab63fa",
           "#FFA15A",
           "#19d3f3",
           "#FF6692",
           "#B6E880",
           "#FF97FF",
           "#FECB52"
          ],
          "font": {
           "color": "#2a3f5f"
          },
          "geo": {
           "bgcolor": "white",
           "lakecolor": "white",
           "landcolor": "white",
           "showlakes": true,
           "showland": true,
           "subunitcolor": "#C8D4E3"
          },
          "hoverlabel": {
           "align": "left"
          },
          "hovermode": "closest",
          "mapbox": {
           "style": "light"
          },
          "paper_bgcolor": "white",
          "plot_bgcolor": "white",
          "polar": {
           "angularaxis": {
            "gridcolor": "#EBF0F8",
            "linecolor": "#EBF0F8",
            "ticks": ""
           },
           "bgcolor": "white",
           "radialaxis": {
            "gridcolor": "#EBF0F8",
            "linecolor": "#EBF0F8",
            "ticks": ""
           }
          },
          "scene": {
           "xaxis": {
            "backgroundcolor": "white",
            "gridcolor": "#DFE8F3",
            "gridwidth": 2,
            "linecolor": "#EBF0F8",
            "showbackground": true,
            "ticks": "",
            "zerolinecolor": "#EBF0F8"
           },
           "yaxis": {
            "backgroundcolor": "white",
            "gridcolor": "#DFE8F3",
            "gridwidth": 2,
            "linecolor": "#EBF0F8",
            "showbackground": true,
            "ticks": "",
            "zerolinecolor": "#EBF0F8"
           },
           "zaxis": {
            "backgroundcolor": "white",
            "gridcolor": "#DFE8F3",
            "gridwidth": 2,
            "linecolor": "#EBF0F8",
            "showbackground": true,
            "ticks": "",
            "zerolinecolor": "#EBF0F8"
           }
          },
          "shapedefaults": {
           "line": {
            "color": "#2a3f5f"
           }
          },
          "ternary": {
           "aaxis": {
            "gridcolor": "#DFE8F3",
            "linecolor": "#A2B1C6",
            "ticks": ""
           },
           "baxis": {
            "gridcolor": "#DFE8F3",
            "linecolor": "#A2B1C6",
            "ticks": ""
           },
           "bgcolor": "white",
           "caxis": {
            "gridcolor": "#DFE8F3",
            "linecolor": "#A2B1C6",
            "ticks": ""
           }
          },
          "title": {
           "x": 0.05
          },
          "xaxis": {
           "automargin": true,
           "gridcolor": "#EBF0F8",
           "linecolor": "#EBF0F8",
           "ticks": "",
           "title": {
            "standoff": 15
           },
           "zerolinecolor": "#EBF0F8",
           "zerolinewidth": 2
          },
          "yaxis": {
           "automargin": true,
           "gridcolor": "#EBF0F8",
           "linecolor": "#EBF0F8",
           "ticks": "",
           "title": {
            "standoff": 15
           },
           "zerolinecolor": "#EBF0F8",
           "zerolinewidth": 2
          }
         }
        },
        "title": {
         "text": "Failure Rate VS Target"
        },
        "xaxis": {
         "anchor": "y",
         "domain": [
          0,
          1
         ],
         "title": {
          "text": "QPUs With Failed Runs"
         }
        },
        "yaxis": {
         "anchor": "x",
         "domain": [
          0,
          1
         ],
         "title": {
          "text": "Failure Rate (%)"
         }
        }
       }
      }
     },
     "metadata": {},
     "output_type": "display_data"
    }
   ],
   "source": [
    "#plotting \n",
    "merged_df.loc[merged_df['Failure Message'].str.contains(\"'400', 'message': '81 - Duplicate job id'\", na=False), 'Failure Message'] = 'Duplicate Job ID'\n",
    "merged_df.loc[merged_df['Failure Message'].str.contains(\"'InvalidInputData'\", na=False), 'Failure Message'] = 'Invalid Input Data'\n",
    "merged_df.loc[merged_df['Failure Message'].str.contains(\"'TransientFailure'\", na=False), 'Failure Message'] = 'Transient Failure'\n",
    "\n",
    "\n",
    "fig = px.bar(merged_df, x= \"Target\", y=\"error_rate\", color = \"Failure Message\", barmode= \"stack\",\n",
    "             title = \"Failure Rate VS Target\")\n",
    "fig.update_layout(showlegend =True, yaxis_title = \"Failure Rate (%)\", xaxis_title = \"QPUs With Failed Runs\", legend_title_text = \"Error\") \n",
    "\n",
    "merged_df[\"Failure Message\"] = merged_df['Failure Message'].astype(str)\n",
    "#cutting out the message after\n",
    "legend_labels = {subcategory: subcategory.split(\", '\")[0] for subcategory in merged_df['Failure Message'].unique()}\n",
    " \n",
    "# Update the legend \n",
    "for trace in fig.data:\n",
    "    trace.name = legend_labels.get(trace.name, trace.name)\n",
    "\n",
    "fig"
   ]
  },
  {
   "cell_type": "code",
   "execution_count": null,
   "metadata": {},
   "outputs": [],
   "source": []
  },
  {
   "cell_type": "code",
   "execution_count": null,
   "metadata": {},
   "outputs": [],
   "source": [
    "# azure plot 1 \n",
    "# how does fidelity change over time- line chart. x axis is time y is fidelity, color by the machine,\n",
    "#  make interactive so facet by number qubits"
   ]
  },
  {
   "cell_type": "code",
   "execution_count": null,
   "metadata": {},
   "outputs": [],
   "source": [
    "#home page \n",
    "\n",
    "#AZURE \n",
    "\n",
    "azure_data[\"Number of Qubits\"] = azure_data[\"Number of Qubits\"].astype(str)\n",
    "fig= px.line(azure_data, x = \"End Time\", y =\"Fidelity\", facet_col = \"Number of Qubits\",\n",
    "             color =\"Target\",category_orders={\"Number of Qubits\": [\"8\",\"10\",\"12\"]}\n",
    " )\n",
    "fig.update_layout(showlegend= False)"
   ]
  },
  {
   "cell_type": "code",
   "execution_count": 7,
   "metadata": {},
   "outputs": [
    {
     "name": "stdout",
     "output_type": "stream",
     "text": [
      "['quantinuum.sim.h1-1e' 'Garnet']\n"
     ]
    },
    {
     "data": {
      "application/vnd.plotly.v1+json": {
       "config": {
        "plotlyServerURL": "https://plot.ly"
       },
       "data": [
        {
         "hovertemplate": "Target=quantinuum.sim.h1-1e<br>Number of Qubits=8<br>End Time=%{x}<br>Fidelity=%{y}<extra></extra>",
         "legendgroup": "quantinuum.sim.h1-1e",
         "line": {
          "color": "#636efa",
          "dash": "solid"
         },
         "marker": {
          "symbol": "circle"
         },
         "mode": "lines",
         "name": "quantinuum.sim.h1-1e",
         "orientation": "v",
         "showlegend": true,
         "type": "scatter",
         "x": [
          "2024-08-27 19:12:30.699009+00:00",
          "2024-08-27 19:12:26.485357+00:00",
          "2024-08-27 19:12:20.381736+00:00",
          "2024-08-27 19:10:45.999314+00:00",
          "2024-08-27 19:10:40.165279+00:00",
          "2024-08-27 19:10:34.727547+00:00"
         ],
         "xaxis": "x",
         "y": [
          0.7516446614315567,
          0.6297778058623651,
          0.3211340143012289,
          0.7687633538054849,
          0.7086047284374171,
          0.2885154324322503
         ],
         "yaxis": "y"
        },
        {
         "hovertemplate": "Target=Garnet<br>Number of Qubits=8<br>End Time=%{x}<br>Fidelity=%{y}<extra></extra>",
         "legendgroup": "Garnet",
         "line": {
          "color": "#EF553B",
          "dash": "solid"
         },
         "marker": {
          "symbol": "circle"
         },
         "mode": "lines",
         "name": "Garnet",
         "orientation": "v",
         "showlegend": true,
         "type": "scatter",
         "x": [
          "2024-08-28 08:07:05.454000+00:00",
          "2024-08-28 08:07:03.907000+00:00",
          "2024-08-28 08:07:00.214000+00:00",
          "2024-08-28 08:06:55.869000+00:00",
          "2024-08-28 08:06:53.328000+00:00",
          "2024-08-28 08:06:50.693000+00:00",
          "2024-08-28 08:06:49.323000+00:00",
          "2024-08-28 08:06:47.156000+00:00",
          "2024-08-28 08:06:44.623000+00:00",
          "2024-08-28 08:06:43.148000+00:00",
          "2024-08-28 08:06:40.790000+00:00",
          "2024-08-28 08:06:38.374000+00:00",
          "2024-08-27 08:00:44.098000+00:00",
          "2024-08-27 08:00:41.495000+00:00",
          "2024-08-27 08:00:38.895000+00:00",
          "2024-08-27 08:00:37.230000+00:00",
          "2024-08-27 08:00:33.509000+00:00",
          "2024-08-27 08:00:31.021000+00:00",
          "2024-08-27 08:00:27.368000+00:00",
          "2024-08-27 08:00:24.878000+00:00",
          "2024-08-27 08:00:22.485000+00:00",
          "2024-08-27 08:00:18.605000+00:00",
          "2024-08-27 08:00:18.602000+00:00",
          "2024-08-27 08:00:14.674000+00:00"
         ],
         "xaxis": "x",
         "y": [
          0.0020000000000001,
          0.5184417425071673,
          0.5855247155920932,
          0.0030000000000002,
          0.4914757229741703,
          0.0039999999999999,
          0.0019999999999999,
          0.4999712037152237,
          0.2278561680136169,
          0.2101213699226669,
          1.972152263052529e-31,
          0.0099999999999999,
          0.522042978717553,
          0.0040000000000002,
          0.5278340468706028,
          0.0010000000000002,
          0.4388539602481909,
          0.0019999999999999,
          0.4185042570972221,
          1.972152263052529e-31,
          1.972152263052529e-31,
          0.2350221476059593,
          0.2292809364877843,
          1.972152263052529e-31
         ],
         "yaxis": "y"
        },
        {
         "hovertemplate": "Target=Garnet<br>Number of Qubits=12<br>End Time=%{x}<br>Fidelity=%{y}<extra></extra>",
         "legendgroup": "Garnet",
         "line": {
          "color": "#EF553B",
          "dash": "solid"
         },
         "marker": {
          "symbol": "circle"
         },
         "mode": "lines",
         "name": "Garnet",
         "orientation": "v",
         "showlegend": false,
         "type": "scatter",
         "x": [
          "2024-08-28 08:08:07.541000+00:00",
          "2024-08-28 08:08:05.084000+00:00",
          "2024-08-28 08:08:02.721000+00:00",
          "2024-08-28 08:07:59.909000+00:00",
          "2024-08-28 08:07:58.145000+00:00",
          "2024-08-28 08:07:55.354000+00:00",
          "2024-08-28 08:07:52.121000+00:00",
          "2024-08-28 08:07:49.402000+00:00",
          "2024-08-28 08:07:47.859000+00:00",
          "2024-08-28 08:07:45.207000+00:00",
          "2024-08-28 08:07:42.444000+00:00",
          "2024-08-28 08:07:39.818000+00:00",
          "2024-08-27 08:01:45.500000+00:00",
          "2024-08-27 08:01:43.043000+00:00",
          "2024-08-27 08:01:40.467000+00:00",
          "2024-08-27 08:01:37.637000+00:00",
          "2024-08-27 08:01:33.131000+00:00",
          "2024-08-27 08:01:30.243000+00:00",
          "2024-08-27 08:01:28.697000+00:00",
          "2024-08-27 08:01:24.937000+00:00",
          "2024-08-27 08:01:23.304000+00:00",
          "2024-08-27 08:01:20.640000+00:00",
          "2024-08-27 08:01:18.072000+00:00",
          "2024-08-27 08:01:16.493000+00:00"
         ],
         "xaxis": "x2",
         "y": [
          1.972152263052529e-31,
          0.0190674455804826,
          1.972152263052529e-31,
          0.0264064715014832,
          1.972152263052529e-31,
          1.972152263052529e-31,
          1.972152263052529e-31,
          0.0131623288374073,
          0.0136019543956181,
          0.003082253967444,
          1.972152263052529e-31,
          0.0033799999999999,
          0.0160749609691606,
          0.0270487000131546,
          1.972152263052529e-31,
          0.0010000000000024,
          0.0147047373573144,
          1.972152263052529e-31,
          1.972152263052529e-31,
          1.972152263052529e-31,
          0.0126529385258414,
          1.972152263052529e-31,
          0.0019999999999999,
          0.0016199999999999
         ],
         "yaxis": "y2"
        },
        {
         "hovertemplate": "Target=Garnet<br>Number of Qubits=10<br>End Time=%{x}<br>Fidelity=%{y}<extra></extra>",
         "legendgroup": "Garnet",
         "line": {
          "color": "#EF553B",
          "dash": "solid"
         },
         "marker": {
          "symbol": "circle"
         },
         "mode": "lines",
         "name": "Garnet",
         "orientation": "v",
         "showlegend": false,
         "type": "scatter",
         "x": [
          "2024-08-28 08:07:35.502000+00:00",
          "2024-08-28 08:07:33.268000+00:00",
          "2024-08-28 08:07:29.396000+00:00",
          "2024-08-28 08:07:27.513000+00:00",
          "2024-08-28 08:07:24.588000+00:00",
          "2024-08-28 08:07:22.046000+00:00",
          "2024-08-28 08:07:19.406000+00:00",
          "2024-08-28 08:07:16.807000+00:00",
          "2024-08-28 08:07:14.697000+00:00",
          "2024-08-28 08:07:12.090000+00:00",
          "2024-08-28 08:07:10.676000+00:00",
          "2024-08-28 08:07:08.109000+00:00",
          "2024-08-27 08:01:11.815000+00:00",
          "2024-08-27 08:01:08.335000+00:00",
          "2024-08-27 08:01:06.715000+00:00",
          "2024-08-27 08:01:04.032000+00:00",
          "2024-08-27 08:01:01.476000+00:00",
          "2024-08-27 08:00:59.422000+00:00",
          "2024-08-27 08:00:56.711000+00:00",
          "2024-08-27 08:00:55.127000+00:00",
          "2024-08-27 08:00:52.330000+00:00",
          "2024-08-27 08:00:49.755000+00:00",
          "2024-08-27 08:00:48.312000+00:00",
          "2024-08-27 08:00:45.691000+00:00"
         ],
         "xaxis": "x3",
         "y": [
          0.0060000000000022,
          0.0010000000000013,
          0.13948798468759,
          0.1532172879780788,
          0.0059999999999999,
          0.111377871151524,
          0.0039999999999999,
          0.0099999999999999,
          0.1161314882945932,
          0.036305829033095,
          0.0316454835495035,
          1.972152263052529e-31,
          0.1483685789257881,
          0.0040000000000023,
          0.1497826936410163,
          0.0040000000000026,
          0.0039999999999999,
          0.0019999999999999,
          0.0854565829094813,
          1.972152263052529e-31,
          0.0848006971739114,
          1.972152263052529e-31,
          0.0182617432837137,
          0.0252909518154931
         ],
         "yaxis": "y3"
        }
       ],
       "layout": {
        "annotations": [
         {
          "font": {},
          "showarrow": false,
          "text": "Number of Qubits=8",
          "x": 0.15999999999999998,
          "xanchor": "center",
          "xref": "paper",
          "y": 1,
          "yanchor": "bottom",
          "yref": "paper"
         },
         {
          "font": {},
          "showarrow": false,
          "text": "Number of Qubits=12",
          "x": 0.49999999999999994,
          "xanchor": "center",
          "xref": "paper",
          "y": 1,
          "yanchor": "bottom",
          "yref": "paper"
         },
         {
          "font": {},
          "showarrow": false,
          "text": "Number of Qubits=10",
          "x": 0.8399999999999999,
          "xanchor": "center",
          "xref": "paper",
          "y": 1,
          "yanchor": "bottom",
          "yref": "paper"
         }
        ],
        "legend": {
         "title": {
          "text": "Target"
         },
         "tracegroupgap": 0
        },
        "template": {
         "data": {
          "bar": [
           {
            "error_x": {
             "color": "#2a3f5f"
            },
            "error_y": {
             "color": "#2a3f5f"
            },
            "marker": {
             "line": {
              "color": "white",
              "width": 0.5
             },
             "pattern": {
              "fillmode": "overlay",
              "size": 10,
              "solidity": 0.2
             }
            },
            "type": "bar"
           }
          ],
          "barpolar": [
           {
            "marker": {
             "line": {
              "color": "white",
              "width": 0.5
             },
             "pattern": {
              "fillmode": "overlay",
              "size": 10,
              "solidity": 0.2
             }
            },
            "type": "barpolar"
           }
          ],
          "carpet": [
           {
            "aaxis": {
             "endlinecolor": "#2a3f5f",
             "gridcolor": "#C8D4E3",
             "linecolor": "#C8D4E3",
             "minorgridcolor": "#C8D4E3",
             "startlinecolor": "#2a3f5f"
            },
            "baxis": {
             "endlinecolor": "#2a3f5f",
             "gridcolor": "#C8D4E3",
             "linecolor": "#C8D4E3",
             "minorgridcolor": "#C8D4E3",
             "startlinecolor": "#2a3f5f"
            },
            "type": "carpet"
           }
          ],
          "choropleth": [
           {
            "colorbar": {
             "outlinewidth": 0,
             "ticks": ""
            },
            "type": "choropleth"
           }
          ],
          "contour": [
           {
            "colorbar": {
             "outlinewidth": 0,
             "ticks": ""
            },
            "colorscale": [
             [
              0,
              "#0d0887"
             ],
             [
              0.1111111111111111,
              "#46039f"
             ],
             [
              0.2222222222222222,
              "#7201a8"
             ],
             [
              0.3333333333333333,
              "#9c179e"
             ],
             [
              0.4444444444444444,
              "#bd3786"
             ],
             [
              0.5555555555555556,
              "#d8576b"
             ],
             [
              0.6666666666666666,
              "#ed7953"
             ],
             [
              0.7777777777777778,
              "#fb9f3a"
             ],
             [
              0.8888888888888888,
              "#fdca26"
             ],
             [
              1,
              "#f0f921"
             ]
            ],
            "type": "contour"
           }
          ],
          "contourcarpet": [
           {
            "colorbar": {
             "outlinewidth": 0,
             "ticks": ""
            },
            "type": "contourcarpet"
           }
          ],
          "heatmap": [
           {
            "colorbar": {
             "outlinewidth": 0,
             "ticks": ""
            },
            "colorscale": [
             [
              0,
              "#0d0887"
             ],
             [
              0.1111111111111111,
              "#46039f"
             ],
             [
              0.2222222222222222,
              "#7201a8"
             ],
             [
              0.3333333333333333,
              "#9c179e"
             ],
             [
              0.4444444444444444,
              "#bd3786"
             ],
             [
              0.5555555555555556,
              "#d8576b"
             ],
             [
              0.6666666666666666,
              "#ed7953"
             ],
             [
              0.7777777777777778,
              "#fb9f3a"
             ],
             [
              0.8888888888888888,
              "#fdca26"
             ],
             [
              1,
              "#f0f921"
             ]
            ],
            "type": "heatmap"
           }
          ],
          "heatmapgl": [
           {
            "colorbar": {
             "outlinewidth": 0,
             "ticks": ""
            },
            "colorscale": [
             [
              0,
              "#0d0887"
             ],
             [
              0.1111111111111111,
              "#46039f"
             ],
             [
              0.2222222222222222,
              "#7201a8"
             ],
             [
              0.3333333333333333,
              "#9c179e"
             ],
             [
              0.4444444444444444,
              "#bd3786"
             ],
             [
              0.5555555555555556,
              "#d8576b"
             ],
             [
              0.6666666666666666,
              "#ed7953"
             ],
             [
              0.7777777777777778,
              "#fb9f3a"
             ],
             [
              0.8888888888888888,
              "#fdca26"
             ],
             [
              1,
              "#f0f921"
             ]
            ],
            "type": "heatmapgl"
           }
          ],
          "histogram": [
           {
            "marker": {
             "pattern": {
              "fillmode": "overlay",
              "size": 10,
              "solidity": 0.2
             }
            },
            "type": "histogram"
           }
          ],
          "histogram2d": [
           {
            "colorbar": {
             "outlinewidth": 0,
             "ticks": ""
            },
            "colorscale": [
             [
              0,
              "#0d0887"
             ],
             [
              0.1111111111111111,
              "#46039f"
             ],
             [
              0.2222222222222222,
              "#7201a8"
             ],
             [
              0.3333333333333333,
              "#9c179e"
             ],
             [
              0.4444444444444444,
              "#bd3786"
             ],
             [
              0.5555555555555556,
              "#d8576b"
             ],
             [
              0.6666666666666666,
              "#ed7953"
             ],
             [
              0.7777777777777778,
              "#fb9f3a"
             ],
             [
              0.8888888888888888,
              "#fdca26"
             ],
             [
              1,
              "#f0f921"
             ]
            ],
            "type": "histogram2d"
           }
          ],
          "histogram2dcontour": [
           {
            "colorbar": {
             "outlinewidth": 0,
             "ticks": ""
            },
            "colorscale": [
             [
              0,
              "#0d0887"
             ],
             [
              0.1111111111111111,
              "#46039f"
             ],
             [
              0.2222222222222222,
              "#7201a8"
             ],
             [
              0.3333333333333333,
              "#9c179e"
             ],
             [
              0.4444444444444444,
              "#bd3786"
             ],
             [
              0.5555555555555556,
              "#d8576b"
             ],
             [
              0.6666666666666666,
              "#ed7953"
             ],
             [
              0.7777777777777778,
              "#fb9f3a"
             ],
             [
              0.8888888888888888,
              "#fdca26"
             ],
             [
              1,
              "#f0f921"
             ]
            ],
            "type": "histogram2dcontour"
           }
          ],
          "mesh3d": [
           {
            "colorbar": {
             "outlinewidth": 0,
             "ticks": ""
            },
            "type": "mesh3d"
           }
          ],
          "parcoords": [
           {
            "line": {
             "colorbar": {
              "outlinewidth": 0,
              "ticks": ""
             }
            },
            "type": "parcoords"
           }
          ],
          "pie": [
           {
            "automargin": true,
            "type": "pie"
           }
          ],
          "scatter": [
           {
            "fillpattern": {
             "fillmode": "overlay",
             "size": 10,
             "solidity": 0.2
            },
            "type": "scatter"
           }
          ],
          "scatter3d": [
           {
            "line": {
             "colorbar": {
              "outlinewidth": 0,
              "ticks": ""
             }
            },
            "marker": {
             "colorbar": {
              "outlinewidth": 0,
              "ticks": ""
             }
            },
            "type": "scatter3d"
           }
          ],
          "scattercarpet": [
           {
            "marker": {
             "colorbar": {
              "outlinewidth": 0,
              "ticks": ""
             }
            },
            "type": "scattercarpet"
           }
          ],
          "scattergeo": [
           {
            "marker": {
             "colorbar": {
              "outlinewidth": 0,
              "ticks": ""
             }
            },
            "type": "scattergeo"
           }
          ],
          "scattergl": [
           {
            "marker": {
             "colorbar": {
              "outlinewidth": 0,
              "ticks": ""
             }
            },
            "type": "scattergl"
           }
          ],
          "scattermapbox": [
           {
            "marker": {
             "colorbar": {
              "outlinewidth": 0,
              "ticks": ""
             }
            },
            "type": "scattermapbox"
           }
          ],
          "scatterpolar": [
           {
            "marker": {
             "colorbar": {
              "outlinewidth": 0,
              "ticks": ""
             }
            },
            "type": "scatterpolar"
           }
          ],
          "scatterpolargl": [
           {
            "marker": {
             "colorbar": {
              "outlinewidth": 0,
              "ticks": ""
             }
            },
            "type": "scatterpolargl"
           }
          ],
          "scatterternary": [
           {
            "marker": {
             "colorbar": {
              "outlinewidth": 0,
              "ticks": ""
             }
            },
            "type": "scatterternary"
           }
          ],
          "surface": [
           {
            "colorbar": {
             "outlinewidth": 0,
             "ticks": ""
            },
            "colorscale": [
             [
              0,
              "#0d0887"
             ],
             [
              0.1111111111111111,
              "#46039f"
             ],
             [
              0.2222222222222222,
              "#7201a8"
             ],
             [
              0.3333333333333333,
              "#9c179e"
             ],
             [
              0.4444444444444444,
              "#bd3786"
             ],
             [
              0.5555555555555556,
              "#d8576b"
             ],
             [
              0.6666666666666666,
              "#ed7953"
             ],
             [
              0.7777777777777778,
              "#fb9f3a"
             ],
             [
              0.8888888888888888,
              "#fdca26"
             ],
             [
              1,
              "#f0f921"
             ]
            ],
            "type": "surface"
           }
          ],
          "table": [
           {
            "cells": {
             "fill": {
              "color": "#EBF0F8"
             },
             "line": {
              "color": "white"
             }
            },
            "header": {
             "fill": {
              "color": "#C8D4E3"
             },
             "line": {
              "color": "white"
             }
            },
            "type": "table"
           }
          ]
         },
         "layout": {
          "annotationdefaults": {
           "arrowcolor": "#2a3f5f",
           "arrowhead": 0,
           "arrowwidth": 1
          },
          "autotypenumbers": "strict",
          "coloraxis": {
           "colorbar": {
            "outlinewidth": 0,
            "ticks": ""
           }
          },
          "colorscale": {
           "diverging": [
            [
             0,
             "#8e0152"
            ],
            [
             0.1,
             "#c51b7d"
            ],
            [
             0.2,
             "#de77ae"
            ],
            [
             0.3,
             "#f1b6da"
            ],
            [
             0.4,
             "#fde0ef"
            ],
            [
             0.5,
             "#f7f7f7"
            ],
            [
             0.6,
             "#e6f5d0"
            ],
            [
             0.7,
             "#b8e186"
            ],
            [
             0.8,
             "#7fbc41"
            ],
            [
             0.9,
             "#4d9221"
            ],
            [
             1,
             "#276419"
            ]
           ],
           "sequential": [
            [
             0,
             "#0d0887"
            ],
            [
             0.1111111111111111,
             "#46039f"
            ],
            [
             0.2222222222222222,
             "#7201a8"
            ],
            [
             0.3333333333333333,
             "#9c179e"
            ],
            [
             0.4444444444444444,
             "#bd3786"
            ],
            [
             0.5555555555555556,
             "#d8576b"
            ],
            [
             0.6666666666666666,
             "#ed7953"
            ],
            [
             0.7777777777777778,
             "#fb9f3a"
            ],
            [
             0.8888888888888888,
             "#fdca26"
            ],
            [
             1,
             "#f0f921"
            ]
           ],
           "sequentialminus": [
            [
             0,
             "#0d0887"
            ],
            [
             0.1111111111111111,
             "#46039f"
            ],
            [
             0.2222222222222222,
             "#7201a8"
            ],
            [
             0.3333333333333333,
             "#9c179e"
            ],
            [
             0.4444444444444444,
             "#bd3786"
            ],
            [
             0.5555555555555556,
             "#d8576b"
            ],
            [
             0.6666666666666666,
             "#ed7953"
            ],
            [
             0.7777777777777778,
             "#fb9f3a"
            ],
            [
             0.8888888888888888,
             "#fdca26"
            ],
            [
             1,
             "#f0f921"
            ]
           ]
          },
          "colorway": [
           "#636efa",
           "#EF553B",
           "#00cc96",
           "#ab63fa",
           "#FFA15A",
           "#19d3f3",
           "#FF6692",
           "#B6E880",
           "#FF97FF",
           "#FECB52"
          ],
          "font": {
           "color": "#2a3f5f"
          },
          "geo": {
           "bgcolor": "white",
           "lakecolor": "white",
           "landcolor": "white",
           "showlakes": true,
           "showland": true,
           "subunitcolor": "#C8D4E3"
          },
          "hoverlabel": {
           "align": "left"
          },
          "hovermode": "closest",
          "mapbox": {
           "style": "light"
          },
          "paper_bgcolor": "white",
          "plot_bgcolor": "white",
          "polar": {
           "angularaxis": {
            "gridcolor": "#EBF0F8",
            "linecolor": "#EBF0F8",
            "ticks": ""
           },
           "bgcolor": "white",
           "radialaxis": {
            "gridcolor": "#EBF0F8",
            "linecolor": "#EBF0F8",
            "ticks": ""
           }
          },
          "scene": {
           "xaxis": {
            "backgroundcolor": "white",
            "gridcolor": "#DFE8F3",
            "gridwidth": 2,
            "linecolor": "#EBF0F8",
            "showbackground": true,
            "ticks": "",
            "zerolinecolor": "#EBF0F8"
           },
           "yaxis": {
            "backgroundcolor": "white",
            "gridcolor": "#DFE8F3",
            "gridwidth": 2,
            "linecolor": "#EBF0F8",
            "showbackground": true,
            "ticks": "",
            "zerolinecolor": "#EBF0F8"
           },
           "zaxis": {
            "backgroundcolor": "white",
            "gridcolor": "#DFE8F3",
            "gridwidth": 2,
            "linecolor": "#EBF0F8",
            "showbackground": true,
            "ticks": "",
            "zerolinecolor": "#EBF0F8"
           }
          },
          "shapedefaults": {
           "line": {
            "color": "#2a3f5f"
           }
          },
          "ternary": {
           "aaxis": {
            "gridcolor": "#DFE8F3",
            "linecolor": "#A2B1C6",
            "ticks": ""
           },
           "baxis": {
            "gridcolor": "#DFE8F3",
            "linecolor": "#A2B1C6",
            "ticks": ""
           },
           "bgcolor": "white",
           "caxis": {
            "gridcolor": "#DFE8F3",
            "linecolor": "#A2B1C6",
            "ticks": ""
           }
          },
          "title": {
           "x": 0.05
          },
          "xaxis": {
           "automargin": true,
           "gridcolor": "#EBF0F8",
           "linecolor": "#EBF0F8",
           "ticks": "",
           "title": {
            "standoff": 15
           },
           "zerolinecolor": "#EBF0F8",
           "zerolinewidth": 2
          },
          "yaxis": {
           "automargin": true,
           "gridcolor": "#EBF0F8",
           "linecolor": "#EBF0F8",
           "ticks": "",
           "title": {
            "standoff": 15
           },
           "zerolinecolor": "#EBF0F8",
           "zerolinewidth": 2
          }
         }
        },
        "title": {
         "text": "Fidelity VS End Time"
        },
        "xaxis": {
         "anchor": "y",
         "domain": [
          0,
          0.31999999999999995
         ],
         "title": {
          "text": "End Time"
         }
        },
        "xaxis2": {
         "anchor": "y2",
         "domain": [
          0.33999999999999997,
          0.6599999999999999
         ],
         "matches": "x",
         "title": {
          "text": "End Time"
         }
        },
        "xaxis3": {
         "anchor": "y3",
         "domain": [
          0.6799999999999999,
          0.9999999999999999
         ],
         "matches": "x",
         "title": {
          "text": "End Time"
         }
        },
        "yaxis": {
         "anchor": "x",
         "domain": [
          0,
          1
         ],
         "title": {
          "text": "Fidelity"
         }
        },
        "yaxis2": {
         "anchor": "x2",
         "domain": [
          0,
          1
         ],
         "matches": "y",
         "showticklabels": false
        },
        "yaxis3": {
         "anchor": "x3",
         "domain": [
          0,
          1
         ],
         "matches": "y",
         "showticklabels": false
        }
       }
      }
     },
     "metadata": {},
     "output_type": "display_data"
    }
   ],
   "source": [
    "#combine the 2 df. make a column for provider and put aws or azure. then plot as normal\n",
    "#SIMILAR;  job id, targte, number of qubits, end time, fidelity \n",
    "azure_data[\"Provider\"] = \"Azure\"\n",
    "\n",
    "aws_data[\"Provider\"] = \"AWS\"\n",
    "\n",
    "azure_tomerge = azure_data [[\"Job ID\", \"Target\", \"Number of Qubits\", \"Fidelity\", \"End Time\", \"Provider\"]]\n",
    "\n",
    "aws_tomerge = aws_data[[\"Job ID\", \"Target\", \"Number of Qubits\", \"Fidelity\", \"End Time\",\"Provider\"]]\n",
    "\n",
    "\n",
    "frames = [azure_tomerge, aws_tomerge]\n",
    "both_provider_data = pd.concat(frames)\n",
    "print(both_provider_data[\"Target\"].unique())\n",
    "both_provider_data[\"Number of Qubits\"] = both_provider_data[\"Number of Qubits\"].astype(str)\n",
    "fig= px.line(both_provider_data, x = \"End Time\", y =\"Fidelity\",\n",
    "              title = \"Fidelity VS End Time\",\n",
    "             color = \"Target\",\n",
    "              facet_col= \"Number of Qubits\")\n",
    "\n",
    "fig"
   ]
  },
  {
   "cell_type": "code",
   "execution_count": null,
   "metadata": {},
   "outputs": [],
   "source": [
    "fig = px.line(both_provider_data, x = \"End Time\", y =\"Fidelity\",\n",
    "              title = \"Fidelity VS End Time\",\n",
    "             color = \"Provider\",\n",
    "              facet_col= \"Number of Qubits\")\n",
    "\n",
    "fig"
   ]
  },
  {
   "cell_type": "code",
   "execution_count": null,
   "metadata": {},
   "outputs": [],
   "source": [
    "#AWS \n",
    "#making the scale discrete bc it was continuous before \n",
    "aws_data[\"Number of Qubits\"] = aws_data[\"Number of Qubits\"].astype(str)\n",
    "fig= px.line(aws_data, x = \"End Time\", y =\"Fidelity\",\n",
    "              title = \"Fidelity VS End Time\",\n",
    "             color = \"Number of Qubits\",\n",
    "              facet_col= \"Number of Qubits\")\n",
    "\n",
    "fig.update_layout(showlegend= False)\n"
   ]
  },
  {
   "cell_type": "code",
   "execution_count": null,
   "metadata": {},
   "outputs": [],
   "source": [
    "#AVG QUEUE TIME VS TARGET\n",
    "azure_data[\"Average Queue Time\"]= azure_data[\"Average Queue Time\"].div(3600)\n",
    "fig = px.box(azure_data , x= \"Target\", y = \"Average Queue Time\",\n",
    " title = \"Average Queue Time VS Target\", color = 'Target'\n",
    "\n",
    "# need to figure out how to change the color of the label        \n",
    ")\n",
    "#fig.update_layout(\"Ionq simulator has no average queue time because it is not running on real quantum hardware.\")\n",
    "fig  \n",
    "#convert from sec to hours then use , only azure , remove legend, \n",
    "# rigetti under a min ,ionq 15 days, change y axis to log scale - tick for 1 min/hour"
   ]
  },
  {
   "cell_type": "code",
   "execution_count": null,
   "metadata": {},
   "outputs": [],
   "source": [
    "# RUN TIME GRAPH AZURE \n",
    "\n",
    "\n",
    "fig = px.box(azure_data, x= \"Target\", y = \"Run Time\",\n",
    " title = \"Run Time (Queue Time + Execution Time) VS Target\", color = 'Target',\n",
    "\n",
    "# need to figure out how to change the color of the label        \n",
    ")\n",
    "fig.update_yaxes(title = \"Run Time [hours]\")\n",
    "# add a unit to the y axis to specify that it is hours \n",
    "fig \n",
    "#fig.update_layout(\"Ionq simulator has no average queue time because it is not running on real quantum hardware.\")"
   ]
  },
  {
   "cell_type": "code",
   "execution_count": null,
   "metadata": {},
   "outputs": [],
   "source": [
    "# RUN TIME FOR AWS DATA\n",
    "fig = px.box(aws_data , x= \"Target\", y = \"Run Time\",\n",
    " title = \"Run Time (Queue Time + Execution Time) VS Target\", color = 'Target'\n",
    "\n",
    "# need to figure out how to change the color of the label        \n",
    ")\n",
    "fig.update_yaxes(title = \"Run Time [hours]\")\n",
    "#fig.update_layout(\"Ionq simulator has no average queue time because it is not running on real quantum hardware.\")\n",
    "fig "
   ]
  },
  {
   "cell_type": "code",
   "execution_count": null,
   "metadata": {},
   "outputs": [],
   "source": [
    "# AVERAGE QUEUE TIME VS HOW LONG IN QUEUE (ACTUAL TIME) FOR AZURE\n",
    "fig = px.scatter(azure_data, x = \"Time in Queue\", y = \"Average Queue Time\", title = \"Average Queue Time (reported) VS Actual Queue Time\")\n",
    "fig \n",
    "\"\"\"data = sns.heatmap(azure_data, annot=True)\n",
    "heat = go.Heatmap(data,\n",
    "    x = \"How Long in Queue\",\n",
    "    y = \"Average Queue Time\",\n",
    "    zmin = - 0.25, # Sets the lower bound of the color domain\n",
    "    zmax = 1,\n",
    "    xgap = 1, # Sets the horizontal gap (in pixels) between bricks\n",
    "    ygap = 1,\n",
    "    colorscale = 'RdBu'\n",
    ")\"\"\"\n",
    "#fig.update_xaxes(title = \"Actual Queue Time [hours]\")\n",
    "# FOUND R VALUE\n",
    "#r = stats.pearsonr(azure_data['How Long in Queue'], azure_data['Average Queue Time'])\n",
    "\"\"\"azure_data[\"Average Queue Time\"]= azure_data[\"Average Queue Time\"].div(3600)\n",
    "for index, row in azure_data.iterrows():\n",
    "    queue_time_hour_actual = row[\"How Long in Queue\"]\n",
    "    queue_time_hour_avg = row[\"Average Queue Time\"]\n",
    "\n",
    "    r2 = r2_score(np.array(queue_time_hour_actual), np.array(queue_time_hour_avg)) \n",
    "            \n",
    "    print(r2)\"\"\""
   ]
  },
  {
   "cell_type": "code",
   "execution_count": null,
   "metadata": {},
   "outputs": [],
   "source": [
    "#ic(aws_data)"
   ]
  },
  {
   "cell_type": "code",
   "execution_count": null,
   "metadata": {},
   "outputs": [],
   "source": [
    "#azure_data.plot(x=\"Number of Qubits\", y=\"Fidelity\", kind=\"scatter\",title=\"Fidelity vs. Qubits\")\n",
    "\n",
    "fig= px.box(azure_data, x = \"Number of Qubits\", y =\"Fidelity\", title = \"Fidelity Rate VS Number of Qubits (Azure)\",\n",
    "            color  = \"Number of Qubits\",\n",
    "              category_orders={\"Number of Qubits\": [8,10,12]}\n",
    "              )\n",
    "#titles \n",
    "fig\n",
    "#as you add more gates/qubits/more noise, \n",
    "#picture of dashboard, put plots in showing options/drop down \n",
    "#finding an.\n"
   ]
  },
  {
   "cell_type": "code",
   "execution_count": null,
   "metadata": {},
   "outputs": [],
   "source": [
    "#aws_data.plot(x=\"Number of Qubits\", y=\"Fidelity\", kind=\"scatter\",title=\"Fidelity vs. Qubits\")\n",
    "\n",
    "#change to boxplot \n",
    "\n",
    "\n",
    "\n",
    "\n",
    "fig= px.box(aws_data, x = \"Number of Qubits\", y =\"Fidelity\", title = \"Fidelity Rate VS Number of Qubits (AWS)\",\n",
    "            color  = \"Number of Qubits\",\n",
    "              category_orders={\"Number of Qubits\": [8,10,12]}\n",
    "              )\n",
    "#titles \n",
    "fig.update_yaxes(title = \"Fidelity Rate\")"
   ]
  },
  {
   "cell_type": "code",
   "execution_count": null,
   "metadata": {},
   "outputs": [],
   "source": [
    "#azure_data.plot(x=\"End Time\", y=\"Fidelity\", kind=\"scatter\",title=\"Azure Fidelity vs. Time\").tick_params(labelbottom=False)"
   ]
  },
  {
   "cell_type": "code",
   "execution_count": null,
   "metadata": {},
   "outputs": [],
   "source": [
    "#aws_data.plot(x=\"End Time\", y=\"Fidelity\", kind=\"scatter\",title=\"AWS Fidelity vs. Time\").tick_params(labelbottom=False)"
   ]
  }
 ],
 "metadata": {
  "kernelspec": {
   "display_name": "qiskitv1",
   "language": "python",
   "name": "python3"
  },
  "language_info": {
   "codemirror_mode": {
    "name": "ipython",
    "version": 3
   },
   "file_extension": ".py",
   "mimetype": "text/x-python",
   "name": "python",
   "nbconvert_exporter": "python",
   "pygments_lexer": "ipython3",
   "version": "3.10.14"
  }
 },
 "nbformat": 4,
 "nbformat_minor": 2
}
