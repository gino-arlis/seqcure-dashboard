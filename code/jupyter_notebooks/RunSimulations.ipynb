{
 "cells": [
  {
   "cell_type": "code",
   "execution_count": 15,
   "metadata": {},
   "outputs": [],
   "source": [
    "import common\n",
    "from qiskit_aer import Aer\n",
    "from icecream import ic\n",
    "from qiskit.quantum_info.analysis import hellinger_fidelity\n"
   ]
  },
  {
   "cell_type": "code",
   "execution_count": 2,
   "metadata": {},
   "outputs": [],
   "source": [
    "# Setup simulator backend\n",
    "#provider = BraketProvider()\n",
    "target_name = 'aer_simulator' # this is a noise-free simulator\n",
    "provider = Aer\n",
    "backend = provider.get_backend(target_name)"
   ]
  },
  {
   "cell_type": "code",
   "execution_count": 3,
   "metadata": {},
   "outputs": [],
   "source": [
    "# build and transpile the qft circuit\n",
    "num_qubits8 = 8\n",
    "#num_qubits10 = 10\n",
    "#num_qubits12 = 12\n",
    "circuit1 = common.build_qft_circuit(num_qubits8, backend)\n",
    "#circuit2 = common.build_qft_circuit(num_qubits10, backend)\n",
    "#circuit3 = common.build_qft_circuit(num_qubits12, backend)"
   ]
  },
  {
   "cell_type": "code",
   "execution_count": 4,
   "metadata": {},
   "outputs": [],
   "source": [
    "# Run the simulation\n",
    "result1 = backend.run(circuit1).result()\n",
    "#result2 = backend.run(circuit2).result()\n",
    "#result3 = backend.run(circuit3).result()\n"
   ]
  },
  {
   "cell_type": "code",
   "execution_count": 5,
   "metadata": {},
   "outputs": [],
   "source": [
    "def reduceCountPattern(countsIn):\n",
    "    newcounts = dict()\n",
    "    for key in countsIn.keys():\n",
    "        newkey = key.split(\" \")[0]\n",
    "        newcounts[newkey]=countsIn[key]\n",
    "    return newcounts"
   ]
  },
  {
   "cell_type": "code",
   "execution_count": 6,
   "metadata": {},
   "outputs": [],
   "source": [
    "counts_8_qubit = reduceCountPattern(result1.get_counts(circuit1))\n",
    "#ic(counts_8_qubit)"
   ]
  },
  {
   "cell_type": "code",
   "execution_count": 7,
   "metadata": {},
   "outputs": [
    {
     "data": {
      "image/png": "[encoded data removed]",
      "text/plain": [
       "<Figure size 1000x500 with 1 Axes>"
      ]
     },
     "metadata": {},
     "output_type": "display_data"
    }
   ],
   "source": [
    "import matplotlib.pyplot as plt \n",
    "\n",
    "bitPatterns = list(counts_8_qubit.keys())\n",
    "counts = list(counts_8_qubit.values())\n",
    " \n",
    "plt.figure(figsize = (10, 5))\n",
    "\n",
    "# creating the bar plot\n",
    "plt.bar(bitPatterns, counts, color ='maroon', width = 0.4)\n",
    "plt.ylabel(ylabel=\"Counts\")\n",
    "plt.xlabel(xlabel=\"Binary Pattern\")\n",
    "plt.tick_params(labelbottom=False)\n",
    "plt.title(\"QFT-8 Counts\")\n",
    "plt.show()"
   ]
  },
  {
   "cell_type": "code",
   "execution_count": 25,
   "metadata": {},
   "outputs": [
    {
     "name": "stdout",
     "output_type": "stream",
     "text": [
      "[118016170]\n",
      "{'0111000010001100100010101011': 1.0}\n"
     ]
    }
   ],
   "source": [
    "# add one to the secret_int to compensate for the extra rotations done between QFT and IQFT\n",
    "import numpy as np\n",
    "num_qubits = 28\n",
    "\n",
    "np.random.seed(0)    \n",
    "# generate input string based on the number of qubits\n",
    "secret_int_list = np.random.choice(2**(num_qubits), 1, False)\n",
    "print(secret_int_list)\n",
    "secret_int_plus_one = (secret_int_list[0] + 1) % (2 ** num_qubits)\n",
    "\n",
    "# create the key that is expected to have all the measurements (for this circuit)\n",
    "key = format(secret_int_plus_one, f\"0{num_qubits}b\")\n",
    "\n",
    "# correct distribution is measuring the key 100% of the time\n",
    "correct_dist = {key: 1.0}\n",
    "\n",
    "print (correct_dist)"
   ]
  },
  {
   "cell_type": "code",
   "execution_count": 16,
   "metadata": {},
   "outputs": [
    {
     "name": "stderr",
     "output_type": "stream",
     "text": [
      "ic| provider.backends(): [<IonQSimulatorBackend('ionq.simulator')>,\n",
      "                          <IonQAriaBackend('ionq.qpu.aria-1')>,\n",
      "                          <IonQAriaBackend('ionq.qpu.aria-2')>,\n",
      "                          <QuantinuumSyntaxCheckerBackend('quantinuum.sim.h1-1sc')>,\n",
      "                          <QuantinuumEmulatorBackend('quantinuum.sim.h1-1e')>,\n",
      "                          <QuantinuumQPUBackend('quantinuum.qpu.h1-1')>,\n",
      "                          <RigettiSimulatorBackend('rigetti.sim.qvm')>,\n",
      "                          <RigettiQPUBackend('rigetti.qpu.ankaa-2')>,\n",
      "                          <MicrosoftResourceEstimationBackend('microsoft.estimator')>]\n"
     ]
    },
    {
     "data": {
      "text/plain": [
       "[<IonQSimulatorBackend('ionq.simulator')>,\n",
       " <IonQAriaBackend('ionq.qpu.aria-1')>,\n",
       " <IonQAriaBackend('ionq.qpu.aria-2')>,\n",
       " <QuantinuumSyntaxCheckerBackend('quantinuum.sim.h1-1sc')>,\n",
       " <QuantinuumEmulatorBackend('quantinuum.sim.h1-1e')>,\n",
       " <QuantinuumQPUBackend('quantinuum.qpu.h1-1')>,\n",
       " <RigettiSimulatorBackend('rigetti.sim.qvm')>,\n",
       " <RigettiQPUBackend('rigetti.qpu.ankaa-2')>,\n",
       " <MicrosoftResourceEstimationBackend('microsoft.estimator')>]"
      ]
     },
     "execution_count": 16,
     "metadata": {},
     "output_type": "execute_result"
    }
   ],
   "source": [
    "import os\n",
    "from azure.quantum import Workspace\n",
    "from azure.quantum.qiskit import AzureQuantumProvider \n",
    "\n",
    "seqcure_id = os.getenv(\"AZURE_QUANTUM_RESOURCE_ID\")\n",
    "location = os.getenv(\"AZURE_QUANTUM_LOCATION\") \n",
    "\n",
    "workspace = Workspace(  \n",
    "            resource_id = seqcure_id,\n",
    "            location = location \n",
    "        )\n",
    "\n",
    "provider = AzureQuantumProvider(workspace)\n",
    "ic(provider.backends())\n",
    "# backend = provider.get_backend(target_name)"
   ]
  },
  {
   "cell_type": "markdown",
   "metadata": {},
   "source": []
  }
 ],
 "metadata": {
  "kernelspec": {
   "display_name": "qiskitv1",
   "language": "python",
   "name": "python3"
  },
  "language_info": {
   "codemirror_mode": {
    "name": "ipython",
    "version": 3
   },
   "file_extension": ".py",
   "mimetype": "text/x-python",
   "name": "python",
   "nbconvert_exporter": "python",
   "pygments_lexer": "ipython3",
   "version": "3.10.14"
  }
 },
 "nbformat": 4,
 "nbformat_minor": 2
}
